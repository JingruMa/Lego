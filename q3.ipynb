{
 "cells": [
  {
   "cell_type": "markdown",
   "metadata": {},
   "source": [
    "# What sets have the rarest pieces in them?"
   ]
  },
  {
   "cell_type": "code",
   "execution_count": 31,
   "metadata": {},
   "outputs": [],
   "source": [
    "# draw graph to show this result: What sets have the rarest pieces in them?\n",
    "\n",
    "# store set name and part picture links \n",
    "\n",
    "# use google to search part names, get links google have\n",
    "# open some link and get the url of picture \n",
    "# https://www.geeksforgeeks.org/performing-google-search-using-python-code/\n",
    "\n",
    "# draw the graph which can interactive with customer \n",
    "# https://blog.modeanalytics.com/python-interactive-plot-libraries/"
   ]
  },
  {
   "cell_type": "code",
   "execution_count": 32,
   "metadata": {},
   "outputs": [],
   "source": [
    "import pandas as pd\n",
    "import numpy as np"
   ]
  },
  {
   "cell_type": "code",
   "execution_count": 33,
   "metadata": {},
   "outputs": [],
   "source": [
    "# read data \n",
    "setsfile = '~/Documents/MSofDS/Spring2018/DS-Project2/Lego/q3.csv'\n",
    "df = pd.read_csv(setsfile)"
   ]
  },
  {
   "cell_type": "code",
   "execution_count": 34,
   "metadata": {},
   "outputs": [
    {
     "data": {
      "text/html": [
       "<div>\n",
       "<style scoped>\n",
       "    .dataframe tbody tr th:only-of-type {\n",
       "        vertical-align: middle;\n",
       "    }\n",
       "\n",
       "    .dataframe tbody tr th {\n",
       "        vertical-align: top;\n",
       "    }\n",
       "\n",
       "    .dataframe thead th {\n",
       "        text-align: right;\n",
       "    }\n",
       "</style>\n",
       "<table border=\"1\" class=\"dataframe\">\n",
       "  <thead>\n",
       "    <tr style=\"text-align: right;\">\n",
       "      <th></th>\n",
       "      <th>Unnamed: 0</th>\n",
       "      <th>name_set</th>\n",
       "      <th>part_num</th>\n",
       "      <th>name</th>\n",
       "      <th>freq</th>\n",
       "    </tr>\n",
       "  </thead>\n",
       "  <tbody>\n",
       "    <tr>\n",
       "      <th>0</th>\n",
       "      <td>607</td>\n",
       "      <td>Large Wheels and Axles</td>\n",
       "      <td>2536</td>\n",
       "      <td>Plant Tree Palm Trunk - Short Connector, no Ax...</td>\n",
       "      <td>1</td>\n",
       "    </tr>\n",
       "    <tr>\n",
       "      <th>1</th>\n",
       "      <td>609</td>\n",
       "      <td>Large Wheels and Axles</td>\n",
       "      <td>2711</td>\n",
       "      <td>Technic Plate 1 x 5 with Toothed Ends, 2 Studs...</td>\n",
       "      <td>1</td>\n",
       "    </tr>\n",
       "    <tr>\n",
       "      <th>2</th>\n",
       "      <td>610</td>\n",
       "      <td>Large Wheels and Axles</td>\n",
       "      <td>2717</td>\n",
       "      <td>Technic Seat [3 x 2 Base]</td>\n",
       "      <td>1</td>\n",
       "    </tr>\n",
       "    <tr>\n",
       "      <th>3</th>\n",
       "      <td>614</td>\n",
       "      <td>Large Wheels and Axles</td>\n",
       "      <td>2952</td>\n",
       "      <td>Propeller 2 Blade 9 Diameter</td>\n",
       "      <td>1</td>\n",
       "    </tr>\n",
       "    <tr>\n",
       "      <th>4</th>\n",
       "      <td>628</td>\n",
       "      <td>Large Wheels and Axles</td>\n",
       "      <td>3650c</td>\n",
       "      <td>Technic Gear 24 Tooth Crown with Reinforcement...</td>\n",
       "      <td>1</td>\n",
       "    </tr>\n",
       "  </tbody>\n",
       "</table>\n",
       "</div>"
      ],
      "text/plain": [
       "   Unnamed: 0                name_set part_num  \\\n",
       "0         607  Large Wheels and Axles     2536   \n",
       "1         609  Large Wheels and Axles     2711   \n",
       "2         610  Large Wheels and Axles     2717   \n",
       "3         614  Large Wheels and Axles     2952   \n",
       "4         628  Large Wheels and Axles    3650c   \n",
       "\n",
       "                                                name  freq  \n",
       "0  Plant Tree Palm Trunk - Short Connector, no Ax...     1  \n",
       "1  Technic Plate 1 x 5 with Toothed Ends, 2 Studs...     1  \n",
       "2                          Technic Seat [3 x 2 Base]     1  \n",
       "3                       Propeller 2 Blade 9 Diameter     1  \n",
       "4  Technic Gear 24 Tooth Crown with Reinforcement...     1  "
      ]
     },
     "execution_count": 34,
     "metadata": {},
     "output_type": "execute_result"
    }
   ],
   "source": [
    "df.head()"
   ]
  },
  {
   "cell_type": "code",
   "execution_count": 35,
   "metadata": {},
   "outputs": [
    {
     "data": {
      "text/html": [
       "<div>\n",
       "<style scoped>\n",
       "    .dataframe tbody tr th:only-of-type {\n",
       "        vertical-align: middle;\n",
       "    }\n",
       "\n",
       "    .dataframe tbody tr th {\n",
       "        vertical-align: top;\n",
       "    }\n",
       "\n",
       "    .dataframe thead th {\n",
       "        text-align: right;\n",
       "    }\n",
       "</style>\n",
       "<table border=\"1\" class=\"dataframe\">\n",
       "  <thead>\n",
       "    <tr style=\"text-align: right;\">\n",
       "      <th></th>\n",
       "      <th>name_set</th>\n",
       "      <th>name</th>\n",
       "    </tr>\n",
       "  </thead>\n",
       "  <tbody>\n",
       "    <tr>\n",
       "      <th>0</th>\n",
       "      <td>Large Wheels and Axles</td>\n",
       "      <td>Plant Tree Palm Trunk - Short Connector, no Ax...</td>\n",
       "    </tr>\n",
       "    <tr>\n",
       "      <th>1</th>\n",
       "      <td>Large Wheels and Axles</td>\n",
       "      <td>Technic Plate 1 x 5 with Toothed Ends, 2 Studs...</td>\n",
       "    </tr>\n",
       "    <tr>\n",
       "      <th>2</th>\n",
       "      <td>Large Wheels and Axles</td>\n",
       "      <td>Technic Seat [3 x 2 Base]</td>\n",
       "    </tr>\n",
       "    <tr>\n",
       "      <th>3</th>\n",
       "      <td>Large Wheels and Axles</td>\n",
       "      <td>Propeller 2 Blade 9 Diameter</td>\n",
       "    </tr>\n",
       "    <tr>\n",
       "      <th>4</th>\n",
       "      <td>Large Wheels and Axles</td>\n",
       "      <td>Technic Gear 24 Tooth Crown with Reinforcement...</td>\n",
       "    </tr>\n",
       "  </tbody>\n",
       "</table>\n",
       "</div>"
      ],
      "text/plain": [
       "                 name_set                                               name\n",
       "0  Large Wheels and Axles  Plant Tree Palm Trunk - Short Connector, no Ax...\n",
       "1  Large Wheels and Axles  Technic Plate 1 x 5 with Toothed Ends, 2 Studs...\n",
       "2  Large Wheels and Axles                          Technic Seat [3 x 2 Base]\n",
       "3  Large Wheels and Axles                       Propeller 2 Blade 9 Diameter\n",
       "4  Large Wheels and Axles  Technic Gear 24 Tooth Crown with Reinforcement..."
      ]
     },
     "execution_count": 35,
     "metadata": {},
     "output_type": "execute_result"
    }
   ],
   "source": [
    "# delete columns:  Unnamed:0 and freq \n",
    "df = df.drop('Unnamed: 0', axis=1)\n",
    "df = df.drop('freq', axis=1)\n",
    "df = df.drop('part_num',axis =1)\n",
    "df.head()"
   ]
  },
  {
   "cell_type": "code",
   "execution_count": 36,
   "metadata": {},
   "outputs": [
    {
     "data": {
      "text/plain": [
       "21"
      ]
     },
     "execution_count": 36,
     "metadata": {},
     "output_type": "execute_result"
    }
   ],
   "source": [
    "len(df['name_set'].unique())"
   ]
  },
  {
   "cell_type": "code",
   "execution_count": 37,
   "metadata": {},
   "outputs": [
    {
     "data": {
      "text/plain": [
       "pandas.core.frame.DataFrame"
      ]
     },
     "execution_count": 37,
     "metadata": {},
     "output_type": "execute_result"
    }
   ],
   "source": [
    "type(df)"
   ]
  },
  {
   "cell_type": "code",
   "execution_count": 38,
   "metadata": {},
   "outputs": [
    {
     "name": "stderr",
     "output_type": "stream",
     "text": [
      "/anaconda3/lib/python3.6/site-packages/ipykernel_launcher.py:1: UserWarning: Pandas doesn't allow columns to be created via a new attribute name - see https://pandas.pydata.org/pandas-docs/stable/indexing.html#attribute-access\n",
      "  \"\"\"Entry point for launching an IPython kernel.\n"
     ]
    }
   ],
   "source": [
    "df.freq = df['name_set'].value_counts()\n",
    "df.freq = df.freq.to_frame()\n"
   ]
  },
  {
   "cell_type": "code",
   "execution_count": 39,
   "metadata": {},
   "outputs": [
    {
     "data": {
      "text/plain": [
       "pandas.core.frame.DataFrame"
      ]
     },
     "execution_count": 39,
     "metadata": {},
     "output_type": "execute_result"
    }
   ],
   "source": [
    "type(df.freq)"
   ]
  },
  {
   "cell_type": "code",
   "execution_count": 40,
   "metadata": {},
   "outputs": [
    {
     "data": {
      "text/html": [
       "<div>\n",
       "<style scoped>\n",
       "    .dataframe tbody tr th:only-of-type {\n",
       "        vertical-align: middle;\n",
       "    }\n",
       "\n",
       "    .dataframe tbody tr th {\n",
       "        vertical-align: top;\n",
       "    }\n",
       "\n",
       "    .dataframe thead th {\n",
       "        text-align: right;\n",
       "    }\n",
       "</style>\n",
       "<table border=\"1\" class=\"dataframe\">\n",
       "  <thead>\n",
       "    <tr style=\"text-align: right;\">\n",
       "      <th></th>\n",
       "      <th>setname</th>\n",
       "      <th>freq</th>\n",
       "    </tr>\n",
       "  </thead>\n",
       "  <tbody>\n",
       "    <tr>\n",
       "      <th>0</th>\n",
       "      <td>Harbor Sentry</td>\n",
       "      <td>44</td>\n",
       "    </tr>\n",
       "    <tr>\n",
       "      <th>1</th>\n",
       "      <td>Mini Construction</td>\n",
       "      <td>36</td>\n",
       "    </tr>\n",
       "    <tr>\n",
       "      <th>2</th>\n",
       "      <td>Spyrius Fold-Wing Spacecraft</td>\n",
       "      <td>22</td>\n",
       "    </tr>\n",
       "    <tr>\n",
       "      <th>3</th>\n",
       "      <td>Aqua Res-Q Transport</td>\n",
       "      <td>18</td>\n",
       "    </tr>\n",
       "    <tr>\n",
       "      <th>4</th>\n",
       "      <td>Enchanted Island</td>\n",
       "      <td>16</td>\n",
       "    </tr>\n",
       "  </tbody>\n",
       "</table>\n",
       "</div>"
      ],
      "text/plain": [
       "                        setname  freq\n",
       "0                 Harbor Sentry    44\n",
       "1             Mini Construction    36\n",
       "2  Spyrius Fold-Wing Spacecraft    22\n",
       "3          Aqua Res-Q Transport    18\n",
       "4              Enchanted Island    16"
      ]
     },
     "execution_count": 40,
     "metadata": {},
     "output_type": "execute_result"
    }
   ],
   "source": [
    "df.freq = df.freq.reset_index()\n",
    "df.freq =df.freq.rename(columns = {'index':'setname'})\n",
    "df.freq =df.freq.rename(columns = {'name_set':'freq'})\n",
    "df.freq.head()"
   ]
  },
  {
   "cell_type": "code",
   "execution_count": 41,
   "metadata": {},
   "outputs": [],
   "source": [
    "import seaborn as sns"
   ]
  },
  {
   "cell_type": "code",
   "execution_count": 42,
   "metadata": {},
   "outputs": [
    {
     "data": {
      "image/png": "[encoded data removed]",
      "text/plain": [
       "<matplotlib.figure.Figure at 0x1132dc2b0>"
      ]
     },
     "metadata": {},
     "output_type": "display_data"
    }
   ],
   "source": [
    "graph = sns.stripplot(x=\"setname\", y=\"freq\", data=df.freq);"
   ]
  },
  {
   "cell_type": "code",
   "execution_count": 43,
   "metadata": {},
   "outputs": [
    {
     "name": "stdout",
     "output_type": "stream",
     "text": [
      "['Harbor Sentry', 'Mini Construction', 'Spyrius Fold-Wing Spacecraft', 'Aqua Res-Q Transport', 'Enchanted Island', 'Police Car', 'Meteor Monitor', 'Dirt Bike Transporter', 'Mining Truck', 'Large Wheels and Axles', 'DK Star Wars Brickmaster: Battle For The Stolen Crystals', 'Clone Turbo Tank', 'Vintage Car', 'Helicopter Transport', 'Rapid River Village', \"Captain Redbeard's Pirate Ship\", 'Package Pick-Up', 'Delivery Van', 'Mini Animals', 'Mini Robots', 'Krana']\n",
      "[44, 36, 22, 18, 16, 13, 11, 10, 10, 9, 7, 6, 6, 6, 5, 3, 2, 2, 1, 1, 1]\n"
     ]
    }
   ],
   "source": [
    "setname = df.freq.setname.tolist()\n",
    "freq = df.freq.freq.tolist()\n",
    "print(setname)\n",
    "print(freq)"
   ]
  },
  {
   "cell_type": "code",
   "execution_count": 44,
   "metadata": {},
   "outputs": [],
   "source": [
    "from bokeh.io import show, output_file\n",
    "from bokeh.models import ColumnDataSource\n",
    "from bokeh.palettes import Spectral6\n",
    "from bokeh.plotting import figure\n",
    "\n",
    "\n",
    "from bokeh.plotting import figure, output_file, show, ColumnDataSource\n",
    "from bokeh.models import HoverTool"
   ]
  },
  {
   "cell_type": "code",
   "execution_count": 45,
   "metadata": {},
   "outputs": [],
   "source": [
    "a = setname\n",
    "b = freq\n",
    "# covert df to a dictionary\n",
    "c = dict()\n",
    "c = {idx: group['name'].tolist() \n",
    "        for idx, group in df.groupby('name_set')}\n",
    "type(c)\n",
    "\n",
    "sort = sorted(c, key=lambda k: len(c[k]),reverse = True)\n",
    "#print(sort)\n",
    "\n",
    "#print(c)\n",
    "value = list()\n",
    "for key in sort:\n",
    "    value.append(c.get(key))\n",
    "#print(value)"
   ]
  },
  {
   "cell_type": "code",
   "execution_count": 46,
   "metadata": {},
   "outputs": [
    {
     "name": "stderr",
     "output_type": "stream",
     "text": [
      "/anaconda3/lib/python3.6/site-packages/bokeh/models/sources.py:137: BokehUserWarning: ColumnDataSource's columns must be of the same length. Current lengths: ('color', 6), ('counts', 21), ('fruits', 21), ('names', 21)\n",
      "  \"Current lengths: %s\" % \", \".join(sorted(str((k, len(v))) for k, v in data.items())), BokehUserWarning))\n"
     ]
    }
   ],
   "source": [
    "#output_file(\"colormapped_bars.html\")\n",
    "\n",
    "fruits = setname\n",
    "counts = freq\n",
    "name = value\n",
    "\n",
    "source = ColumnDataSource(data=dict(fruits=fruits, counts=counts, names = name, color=Spectral6))\n",
    "\n",
    "hover = HoverTool(tooltips=[\n",
    "    (\"partName\", \"@names\"),\n",
    "    (\"count\", \"@counts\")\n",
    "])\n",
    "\n",
    "p = figure(x_range=fruits, y_range=(0,50), plot_height=500, tools=[hover], title=\"Fruit Counts\",\n",
    "           toolbar_location=None)\n",
    "\n",
    "p.vbar(x='fruits', top='counts', width=0.9, color='color',legend=None, source=source)\n",
    "\n",
    "p.xaxis.major_label_orientation = \"vertical\"\n",
    "p.xgrid.grid_line_color = None\n",
    "\n",
    "#p.legend.orientation = \"horizontal\"\n",
    "#p.legend.location = \"top_right\"\n",
    "#p.legend.orientation = \"vertical\"\n",
    "\n",
    "#new_legend = p.legend[0]\n",
    "#p.legend[0].plot = None\n",
    "#p.add_layout(new_legend, 'right')\n",
    "\n"
   ]
  },
  {
   "cell_type": "code",
   "execution_count": 47,
   "metadata": {},
   "outputs": [],
   "source": [
    "show(p)"
   ]
  },
  {
   "cell_type": "code",
   "execution_count": null,
   "metadata": {},
   "outputs": [],
   "source": []
  }
 ],
 "metadata": {
  "kernelspec": {
   "display_name": "Python 3",
   "language": "python",
   "name": "python3"
  },
  "language_info": {
   "codemirror_mode": {
    "name": "ipython",
    "version": 3
   },
   "file_extension": ".py",
   "mimetype": "text/x-python",
   "name": "python",
   "nbconvert_exporter": "python",
   "pygments_lexer": "ipython3",
   "version": "3.6.4"
  }
 },
 "nbformat": 4,
 "nbformat_minor": 2
}
