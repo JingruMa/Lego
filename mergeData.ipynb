{
 "cells": [
  {
   "cell_type": "code",
   "execution_count": 5,
   "metadata": {},
   "outputs": [],
   "source": [
    "# predict which theme ...\n",
    "import pandas as pd\n",
    "import numpy as np"
   ]
  },
  {
   "cell_type": "code",
   "execution_count": 6,
   "metadata": {},
   "outputs": [],
   "source": [
    "# read data -- sets\n",
    "setsfile = '~/Documents/MSofDS/Spring2018/DS-Project2/lego-database/sets.csv'\n",
    "sets = pd.read_csv(setsfile)\n",
    "#sets.head()"
   ]
  },
  {
   "cell_type": "code",
   "execution_count": 7,
   "metadata": {},
   "outputs": [],
   "source": [
    "themefile = '~/Documents/MSofDS/Spring2018/DS-Project2/lego-database/themes.csv'\n",
    "themes = pd.read_csv(themefile)\n",
    "#themes.head()"
   ]
  },
  {
   "cell_type": "code",
   "execution_count": 8,
   "metadata": {},
   "outputs": [],
   "source": [
    "setsinvenfile = '~/Documents/MSofDS/Spring2018/DS-Project2/lego-database/inventory_sets.csv'\n",
    "invenotry_sets = pd.read_csv(setsinvenfile)"
   ]
  },
  {
   "cell_type": "code",
   "execution_count": 9,
   "metadata": {},
   "outputs": [],
   "source": [
    "invenfile = '~/Documents/MSofDS/Spring2018/DS-Project2/lego-database/inventories.csv'\n",
    "invenotries = pd.read_csv(invenfile)\n",
    "#invenotries.head()"
   ]
  },
  {
   "cell_type": "code",
   "execution_count": 10,
   "metadata": {},
   "outputs": [],
   "source": [
    "invenpartsfile = '~/Documents/MSofDS/Spring2018/DS-Project2/lego-database/inventory_parts.csv'\n",
    "invenotry_parts = pd.read_csv(invenpartsfile)"
   ]
  },
  {
   "cell_type": "code",
   "execution_count": 11,
   "metadata": {},
   "outputs": [],
   "source": [
    "partsfile = '~/Documents/MSofDS/Spring2018/DS-Project2/lego-database/parts.csv'\n",
    "parts = pd.read_csv(partsfile)\n",
    "#parts.head()"
   ]
  },
  {
   "cell_type": "code",
   "execution_count": 12,
   "metadata": {},
   "outputs": [],
   "source": [
    "#join sets and themes together\n",
    "t1 = pd.merge(sets,themes, left_on = 'theme_id', right_on = 'id', suffixes = ('_set','_theme'))"
   ]
  },
  {
   "cell_type": "code",
   "execution_count": 13,
   "metadata": {},
   "outputs": [
    {
     "data": {
      "text/html": [
       "<div>\n",
       "<style scoped>\n",
       "    .dataframe tbody tr th:only-of-type {\n",
       "        vertical-align: middle;\n",
       "    }\n",
       "\n",
       "    .dataframe tbody tr th {\n",
       "        vertical-align: top;\n",
       "    }\n",
       "\n",
       "    .dataframe thead th {\n",
       "        text-align: right;\n",
       "    }\n",
       "</style>\n",
       "<table border=\"1\" class=\"dataframe\">\n",
       "  <thead>\n",
       "    <tr style=\"text-align: right;\">\n",
       "      <th></th>\n",
       "      <th>set_num</th>\n",
       "      <th>name_set</th>\n",
       "      <th>year</th>\n",
       "      <th>theme_id</th>\n",
       "      <th>num_parts</th>\n",
       "      <th>id</th>\n",
       "      <th>name_theme</th>\n",
       "      <th>parent_id</th>\n",
       "      <th>inventory_id</th>\n",
       "      <th>quantity</th>\n",
       "    </tr>\n",
       "  </thead>\n",
       "  <tbody>\n",
       "    <tr>\n",
       "      <th>0</th>\n",
       "      <td>6016-1</td>\n",
       "      <td>Knights' Arsenal</td>\n",
       "      <td>1987</td>\n",
       "      <td>199</td>\n",
       "      <td>37</td>\n",
       "      <td>199</td>\n",
       "      <td>Lion Knights</td>\n",
       "      <td>186.0</td>\n",
       "      <td>2216</td>\n",
       "      <td>1</td>\n",
       "    </tr>\n",
       "    <tr>\n",
       "      <th>1</th>\n",
       "      <td>6041-1</td>\n",
       "      <td>Armor Shop</td>\n",
       "      <td>1986</td>\n",
       "      <td>199</td>\n",
       "      <td>113</td>\n",
       "      <td>199</td>\n",
       "      <td>Lion Knights</td>\n",
       "      <td>186.0</td>\n",
       "      <td>2216</td>\n",
       "      <td>1</td>\n",
       "    </tr>\n",
       "    <tr>\n",
       "      <th>2</th>\n",
       "      <td>10000-1</td>\n",
       "      <td>Guarded Inn</td>\n",
       "      <td>2001</td>\n",
       "      <td>186</td>\n",
       "      <td>256</td>\n",
       "      <td>186</td>\n",
       "      <td>Castle</td>\n",
       "      <td>NaN</td>\n",
       "      <td>7474</td>\n",
       "      <td>1</td>\n",
       "    </tr>\n",
       "    <tr>\n",
       "      <th>3</th>\n",
       "      <td>10039-1</td>\n",
       "      <td>Black Falcon's Fortress</td>\n",
       "      <td>2002</td>\n",
       "      <td>186</td>\n",
       "      <td>431</td>\n",
       "      <td>186</td>\n",
       "      <td>Castle</td>\n",
       "      <td>NaN</td>\n",
       "      <td>7474</td>\n",
       "      <td>1</td>\n",
       "    </tr>\n",
       "    <tr>\n",
       "      <th>4</th>\n",
       "      <td>1794-1</td>\n",
       "      <td>Dragon Master Chariot</td>\n",
       "      <td>1994</td>\n",
       "      <td>186</td>\n",
       "      <td>36</td>\n",
       "      <td>186</td>\n",
       "      <td>Castle</td>\n",
       "      <td>NaN</td>\n",
       "      <td>5097</td>\n",
       "      <td>1</td>\n",
       "    </tr>\n",
       "  </tbody>\n",
       "</table>\n",
       "</div>"
      ],
      "text/plain": [
       "   set_num                 name_set  year  theme_id  num_parts   id  \\\n",
       "0   6016-1         Knights' Arsenal  1987       199         37  199   \n",
       "1   6041-1               Armor Shop  1986       199        113  199   \n",
       "2  10000-1              Guarded Inn  2001       186        256  186   \n",
       "3  10039-1  Black Falcon's Fortress  2002       186        431  186   \n",
       "4   1794-1    Dragon Master Chariot  1994       186         36  186   \n",
       "\n",
       "     name_theme  parent_id  inventory_id  quantity  \n",
       "0  Lion Knights      186.0          2216         1  \n",
       "1  Lion Knights      186.0          2216         1  \n",
       "2        Castle        NaN          7474         1  \n",
       "3        Castle        NaN          7474         1  \n",
       "4        Castle        NaN          5097         1  "
      ]
     },
     "execution_count": 13,
     "metadata": {},
     "output_type": "execute_result"
    }
   ],
   "source": [
    "# join t1 with ivnetories, inventoryset inventory parts\n",
    "t4 = pd.merge(t1,invenotry_sets, on = 'set_num')\n",
    "t4.head()"
   ]
  },
  {
   "cell_type": "code",
   "execution_count": 14,
   "metadata": {},
   "outputs": [
    {
     "data": {
      "text/html": [
       "<div>\n",
       "<style scoped>\n",
       "    .dataframe tbody tr th:only-of-type {\n",
       "        vertical-align: middle;\n",
       "    }\n",
       "\n",
       "    .dataframe tbody tr th {\n",
       "        vertical-align: top;\n",
       "    }\n",
       "\n",
       "    .dataframe thead th {\n",
       "        text-align: right;\n",
       "    }\n",
       "</style>\n",
       "<table border=\"1\" class=\"dataframe\">\n",
       "  <thead>\n",
       "    <tr style=\"text-align: right;\">\n",
       "      <th></th>\n",
       "      <th>part_num</th>\n",
       "      <th>name</th>\n",
       "      <th>part_cat_id</th>\n",
       "      <th>inventory_id</th>\n",
       "      <th>color_id</th>\n",
       "      <th>quantity</th>\n",
       "      <th>is_spare</th>\n",
       "    </tr>\n",
       "  </thead>\n",
       "  <tbody>\n",
       "    <tr>\n",
       "      <th>0</th>\n",
       "      <td>0687b1</td>\n",
       "      <td>Set 0687 Activity Booklet 1</td>\n",
       "      <td>17</td>\n",
       "      <td>15235</td>\n",
       "      <td>9999</td>\n",
       "      <td>1</td>\n",
       "      <td>f</td>\n",
       "    </tr>\n",
       "    <tr>\n",
       "      <th>1</th>\n",
       "      <td>0901</td>\n",
       "      <td>Baseplate 16 x 30 with Set 080 Yellow House Print</td>\n",
       "      <td>1</td>\n",
       "      <td>1973</td>\n",
       "      <td>2</td>\n",
       "      <td>1</td>\n",
       "      <td>f</td>\n",
       "    </tr>\n",
       "    <tr>\n",
       "      <th>2</th>\n",
       "      <td>0902</td>\n",
       "      <td>Baseplate 16 x 24 with Set 080 Small White Hou...</td>\n",
       "      <td>1</td>\n",
       "      <td>1973</td>\n",
       "      <td>2</td>\n",
       "      <td>1</td>\n",
       "      <td>f</td>\n",
       "    </tr>\n",
       "    <tr>\n",
       "      <th>3</th>\n",
       "      <td>0903</td>\n",
       "      <td>Baseplate 16 x 24 with Set 080 Red House Print</td>\n",
       "      <td>1</td>\n",
       "      <td>1973</td>\n",
       "      <td>2</td>\n",
       "      <td>1</td>\n",
       "      <td>f</td>\n",
       "    </tr>\n",
       "    <tr>\n",
       "      <th>4</th>\n",
       "      <td>0904</td>\n",
       "      <td>Baseplate 16 x 24 with Set 080 Large White Hou...</td>\n",
       "      <td>1</td>\n",
       "      <td>1973</td>\n",
       "      <td>2</td>\n",
       "      <td>1</td>\n",
       "      <td>f</td>\n",
       "    </tr>\n",
       "  </tbody>\n",
       "</table>\n",
       "</div>"
      ],
      "text/plain": [
       "  part_num                                               name  part_cat_id  \\\n",
       "0   0687b1                        Set 0687 Activity Booklet 1           17   \n",
       "1     0901  Baseplate 16 x 30 with Set 080 Yellow House Print            1   \n",
       "2     0902  Baseplate 16 x 24 with Set 080 Small White Hou...            1   \n",
       "3     0903     Baseplate 16 x 24 with Set 080 Red House Print            1   \n",
       "4     0904  Baseplate 16 x 24 with Set 080 Large White Hou...            1   \n",
       "\n",
       "   inventory_id  color_id  quantity is_spare  \n",
       "0         15235      9999         1        f  \n",
       "1          1973         2         1        f  \n",
       "2          1973         2         1        f  \n",
       "3          1973         2         1        f  \n",
       "4          1973         2         1        f  "
      ]
     },
     "execution_count": 14,
     "metadata": {},
     "output_type": "execute_result"
    }
   ],
   "source": [
    "# then join parts and color and categories, and then join sets with them\n",
    "\n",
    "#join t2 with color (t2 join inventory and inventory join color)\n",
    "t3 = pd.merge(parts, invenotry_parts, on = 'part_num')\n",
    "# drop useless columns\n",
    "t3.head()"
   ]
  },
  {
   "cell_type": "code",
   "execution_count": 15,
   "metadata": {
    "scrolled": true
   },
   "outputs": [
    {
     "data": {
      "text/html": [
       "<div>\n",
       "<style scoped>\n",
       "    .dataframe tbody tr th:only-of-type {\n",
       "        vertical-align: middle;\n",
       "    }\n",
       "\n",
       "    .dataframe tbody tr th {\n",
       "        vertical-align: top;\n",
       "    }\n",
       "\n",
       "    .dataframe thead th {\n",
       "        text-align: right;\n",
       "    }\n",
       "</style>\n",
       "<table border=\"1\" class=\"dataframe\">\n",
       "  <thead>\n",
       "    <tr style=\"text-align: right;\">\n",
       "      <th></th>\n",
       "      <th>set_num</th>\n",
       "      <th>name_set</th>\n",
       "      <th>year</th>\n",
       "      <th>theme_id</th>\n",
       "      <th>num_parts</th>\n",
       "      <th>id</th>\n",
       "      <th>name_theme</th>\n",
       "      <th>parent_id</th>\n",
       "      <th>inventory_id_inven</th>\n",
       "      <th>quantity_inven</th>\n",
       "      <th>part_num</th>\n",
       "      <th>name</th>\n",
       "      <th>part_cat_id</th>\n",
       "      <th>inventory_id_parts</th>\n",
       "      <th>color_id</th>\n",
       "      <th>quantity_parts</th>\n",
       "      <th>is_spare</th>\n",
       "    </tr>\n",
       "  </thead>\n",
       "  <tbody>\n",
       "    <tr>\n",
       "      <th>0</th>\n",
       "      <td>6016-1</td>\n",
       "      <td>Knights' Arsenal</td>\n",
       "      <td>1987</td>\n",
       "      <td>199</td>\n",
       "      <td>37</td>\n",
       "      <td>199</td>\n",
       "      <td>Lion Knights</td>\n",
       "      <td>186.0</td>\n",
       "      <td>2216</td>\n",
       "      <td>1</td>\n",
       "      <td>10197</td>\n",
       "      <td>Technic Pin Connector Hub with 2 Perpendicular...</td>\n",
       "      <td>12</td>\n",
       "      <td>199</td>\n",
       "      <td>72</td>\n",
       "      <td>2</td>\n",
       "      <td>f</td>\n",
       "    </tr>\n",
       "    <tr>\n",
       "      <th>1</th>\n",
       "      <td>6016-1</td>\n",
       "      <td>Knights' Arsenal</td>\n",
       "      <td>1987</td>\n",
       "      <td>199</td>\n",
       "      <td>37</td>\n",
       "      <td>199</td>\n",
       "      <td>Lion Knights</td>\n",
       "      <td>186.0</td>\n",
       "      <td>2216</td>\n",
       "      <td>1</td>\n",
       "      <td>11334</td>\n",
       "      <td>Hero Factory Armour with Spikes</td>\n",
       "      <td>41</td>\n",
       "      <td>199</td>\n",
       "      <td>15</td>\n",
       "      <td>2</td>\n",
       "      <td>f</td>\n",
       "    </tr>\n",
       "    <tr>\n",
       "      <th>2</th>\n",
       "      <td>6016-1</td>\n",
       "      <td>Knights' Arsenal</td>\n",
       "      <td>1987</td>\n",
       "      <td>199</td>\n",
       "      <td>37</td>\n",
       "      <td>199</td>\n",
       "      <td>Lion Knights</td>\n",
       "      <td>186.0</td>\n",
       "      <td>2216</td>\n",
       "      <td>1</td>\n",
       "      <td>15365pat0001</td>\n",
       "      <td>Bionicle Zamor Sphere with Marbled White / Blu...</td>\n",
       "      <td>41</td>\n",
       "      <td>199</td>\n",
       "      <td>1</td>\n",
       "      <td>1</td>\n",
       "      <td>f</td>\n",
       "    </tr>\n",
       "    <tr>\n",
       "      <th>3</th>\n",
       "      <td>6016-1</td>\n",
       "      <td>Knights' Arsenal</td>\n",
       "      <td>1987</td>\n",
       "      <td>199</td>\n",
       "      <td>37</td>\n",
       "      <td>199</td>\n",
       "      <td>Lion Knights</td>\n",
       "      <td>186.0</td>\n",
       "      <td>2216</td>\n",
       "      <td>1</td>\n",
       "      <td>15366</td>\n",
       "      <td>Hero Factory Full Torso Armor with Connector f...</td>\n",
       "      <td>41</td>\n",
       "      <td>199</td>\n",
       "      <td>148</td>\n",
       "      <td>1</td>\n",
       "      <td>f</td>\n",
       "    </tr>\n",
       "    <tr>\n",
       "      <th>4</th>\n",
       "      <td>6016-1</td>\n",
       "      <td>Knights' Arsenal</td>\n",
       "      <td>1987</td>\n",
       "      <td>199</td>\n",
       "      <td>37</td>\n",
       "      <td>199</td>\n",
       "      <td>Lion Knights</td>\n",
       "      <td>186.0</td>\n",
       "      <td>2216</td>\n",
       "      <td>1</td>\n",
       "      <td>15376pat01</td>\n",
       "      <td>Large Figure Head Modified Chima Mammoth with ...</td>\n",
       "      <td>41</td>\n",
       "      <td>199</td>\n",
       "      <td>70</td>\n",
       "      <td>1</td>\n",
       "      <td>f</td>\n",
       "    </tr>\n",
       "  </tbody>\n",
       "</table>\n",
       "</div>"
      ],
      "text/plain": [
       "  set_num          name_set  year  theme_id  num_parts   id    name_theme  \\\n",
       "0  6016-1  Knights' Arsenal  1987       199         37  199  Lion Knights   \n",
       "1  6016-1  Knights' Arsenal  1987       199         37  199  Lion Knights   \n",
       "2  6016-1  Knights' Arsenal  1987       199         37  199  Lion Knights   \n",
       "3  6016-1  Knights' Arsenal  1987       199         37  199  Lion Knights   \n",
       "4  6016-1  Knights' Arsenal  1987       199         37  199  Lion Knights   \n",
       "\n",
       "   parent_id  inventory_id_inven  quantity_inven      part_num  \\\n",
       "0      186.0                2216               1         10197   \n",
       "1      186.0                2216               1         11334   \n",
       "2      186.0                2216               1  15365pat0001   \n",
       "3      186.0                2216               1         15366   \n",
       "4      186.0                2216               1    15376pat01   \n",
       "\n",
       "                                                name  part_cat_id  \\\n",
       "0  Technic Pin Connector Hub with 2 Perpendicular...           12   \n",
       "1                    Hero Factory Armour with Spikes           41   \n",
       "2  Bionicle Zamor Sphere with Marbled White / Blu...           41   \n",
       "3  Hero Factory Full Torso Armor with Connector f...           41   \n",
       "4  Large Figure Head Modified Chima Mammoth with ...           41   \n",
       "\n",
       "   inventory_id_parts  color_id  quantity_parts is_spare  \n",
       "0                 199        72               2        f  \n",
       "1                 199        15               2        f  \n",
       "2                 199         1               1        f  \n",
       "3                 199       148               1        f  \n",
       "4                 199        70               1        f  "
      ]
     },
     "execution_count": 15,
     "metadata": {},
     "output_type": "execute_result"
    }
   ],
   "source": [
    "t5 = pd.merge(t4, t3, left_on = 'id', right_on = 'inventory_id', how = 'inner',suffixes = ('_inven','_parts'))\n",
    "t5.head()"
   ]
  },
  {
   "cell_type": "markdown",
   "metadata": {},
   "source": [
    "# how have the size of set changed over time?\n",
    "\n"
   ]
  },
  {
   "cell_type": "code",
   "execution_count": 12,
   "metadata": {},
   "outputs": [
    {
     "name": "stdout",
     "output_type": "stream",
     "text": [
      "   year set_num  num_of_parts\n",
      "0  1970   603-3             6\n",
      "1  1980  1062-1             1\n",
      "2  1981  1064-1             1\n",
      "3  1981   322-1             6\n",
      "4  1981  6611-1           138\n"
     ]
    }
   ],
   "source": [
    "\n",
    "## select part_num, nset_num, setname and year \n",
    "partdf = t5.filter(['part_num','set_num', 'year'], axis=1)\n",
    "part1 = partdf.groupby([\"year\", \"set_num\"]).size().reset_index(name=\"num_of_parts\")\n",
    "print(part1.head())\n"
   ]
  },
  {
   "cell_type": "code",
   "execution_count": 13,
   "metadata": {},
   "outputs": [
    {
     "data": {
      "text/plain": [
       "<matplotlib.axes._subplots.AxesSubplot at 0x10da28cc0>"
      ]
     },
     "execution_count": 13,
     "metadata": {},
     "output_type": "execute_result"
    }
   ],
   "source": [
    "# count the size of parts based on year\n",
    "part2 = part1.drop(part1.columns[[1]], axis=1)\n",
    "part2.groupby('year')['num_of_parts'].sum()\n",
    "\n",
    "# draw plot\n",
    "import matplotlib.pyplot as plt\n",
    "x = part2['year']\n",
    "y = part2['num_of_parts']\n",
    "plt.bar(x,y)\n",
    "\n",
    "#set to index \n",
    "part3 = part2.set_index('year')\n",
    "part3.plot()"
   ]
  },
  {
   "cell_type": "markdown",
   "metadata": {},
   "source": [
    "# Could you predict which theme a set is from just by the bricks it contains? "
   ]
  },
  {
   "cell_type": "code",
   "execution_count": 14,
   "metadata": {},
   "outputs": [
    {
     "name": "stdout",
     "output_type": "stream",
     "text": [
      "       name_theme  num_of_parts\n",
      "0              9V           168\n",
      "1  Advent Sub-Set          2640\n",
      "2         Airport           423\n",
      "3         Animals            33\n",
      "4  Aquaraiders II            13\n"
     ]
    }
   ],
   "source": [
    "# using size of parts in set to predict which theme is belongs\n",
    "df_new = t5.filter(['name_part','name_theme'], axis=1)\n",
    "df_q3 = df_new.groupby([\"name_theme\"]).size().reset_index(name=\"num_of_parts\")\n",
    "\n",
    "print(df_q3.head())"
   ]
  },
  {
   "cell_type": "code",
   "execution_count": 15,
   "metadata": {},
   "outputs": [],
   "source": [
    "# divide training set, validation set and testing set\n",
    "from sklearn.model_selection import train_test_split\n",
    "train, test = train_test_split(df_q3, test_size=0.4)  #60% training test and 40% testing "
   ]
  },
  {
   "cell_type": "code",
   "execution_count": 16,
   "metadata": {},
   "outputs": [
    {
     "name": "stdout",
     "output_type": "stream",
     "text": [
      "89\n"
     ]
    }
   ],
   "source": [
    "# check how many rows in the training dataset\n",
    "print(len(train.index))"
   ]
  },
  {
   "cell_type": "code",
   "execution_count": 17,
   "metadata": {},
   "outputs": [
    {
     "name": "stdout",
     "output_type": "stream",
     "text": [
      "60\n"
     ]
    }
   ],
   "source": [
    "# check how many rows in the testing dataset\n",
    "print(len(test.index))"
   ]
  },
  {
   "cell_type": "code",
   "execution_count": 18,
   "metadata": {},
   "outputs": [
    {
     "data": {
      "text/html": [
       "<div>\n",
       "<style scoped>\n",
       "    .dataframe tbody tr th:only-of-type {\n",
       "        vertical-align: middle;\n",
       "    }\n",
       "\n",
       "    .dataframe tbody tr th {\n",
       "        vertical-align: top;\n",
       "    }\n",
       "\n",
       "    .dataframe thead th {\n",
       "        text-align: right;\n",
       "    }\n",
       "</style>\n",
       "<table border=\"1\" class=\"dataframe\">\n",
       "  <thead>\n",
       "    <tr style=\"text-align: right;\">\n",
       "      <th></th>\n",
       "      <th>name_theme</th>\n",
       "      <th>num_of_parts</th>\n",
       "    </tr>\n",
       "  </thead>\n",
       "  <tbody>\n",
       "    <tr>\n",
       "      <th>137</th>\n",
       "      <td>Toa Nuva</td>\n",
       "      <td>760</td>\n",
       "    </tr>\n",
       "    <tr>\n",
       "      <th>121</th>\n",
       "      <td>Star Wars Episode 4/5/6</td>\n",
       "      <td>306</td>\n",
       "    </tr>\n",
       "    <tr>\n",
       "      <th>106</th>\n",
       "      <td>Series 2 Minifigures</td>\n",
       "      <td>85</td>\n",
       "    </tr>\n",
       "    <tr>\n",
       "      <th>57</th>\n",
       "      <td>Hockey</td>\n",
       "      <td>58</td>\n",
       "    </tr>\n",
       "    <tr>\n",
       "      <th>3</th>\n",
       "      <td>Animals</td>\n",
       "      <td>33</td>\n",
       "    </tr>\n",
       "  </tbody>\n",
       "</table>\n",
       "</div>"
      ],
      "text/plain": [
       "                  name_theme  num_of_parts\n",
       "137                 Toa Nuva           760\n",
       "121  Star Wars Episode 4/5/6           306\n",
       "106     Series 2 Minifigures            85\n",
       "57                    Hockey            58\n",
       "3                    Animals            33"
      ]
     },
     "execution_count": 18,
     "metadata": {},
     "output_type": "execute_result"
    }
   ],
   "source": [
    "train.head()"
   ]
  },
  {
   "cell_type": "code",
   "execution_count": 19,
   "metadata": {},
   "outputs": [
    {
     "data": {
      "text/plain": [
       "['name_theme', 'num_of_parts']"
      ]
     },
     "execution_count": 19,
     "metadata": {},
     "output_type": "execute_result"
    }
   ],
   "source": [
    "list(train) "
   ]
  },
  {
   "cell_type": "code",
   "execution_count": 20,
   "metadata": {},
   "outputs": [],
   "source": [
    "# explanotary variables: both categorical and numeric\n",
    "# response variable: categorical \n"
   ]
  },
  {
   "cell_type": "code",
   "execution_count": 21,
   "metadata": {},
   "outputs": [
    {
     "data": {
      "text/plain": [
       "149"
      ]
     },
     "execution_count": 21,
     "metadata": {},
     "output_type": "execute_result"
    }
   ],
   "source": [
    "# unique theme\n",
    "len(df_q3['name_theme'].unique())\n"
   ]
  },
  {
   "cell_type": "code",
   "execution_count": 22,
   "metadata": {},
   "outputs": [
    {
     "data": {
      "text/plain": [
       "name_theme      0\n",
       "num_of_parts    0\n",
       "dtype: int64"
      ]
     },
     "execution_count": 22,
     "metadata": {},
     "output_type": "execute_result"
    }
   ],
   "source": [
    "train.isnull().sum() #no null value in train dataset"
   ]
  },
  {
   "cell_type": "code",
   "execution_count": 35,
   "metadata": {},
   "outputs": [
    {
     "data": {
      "text/plain": [
       "array(['Toa Nuva', 'Star Wars Episode 4/5/6', 'Series 2 Minifigures',\n",
       "       'Hockey', 'Animals', 'Visorak', 'Gravity Games', 'Castle',\n",
       "       'Series 15 Minifigures', 'Station', 'Toa Hagah', 'DFB Minifigures',\n",
       "       'Lion Knights', 'Divers', 'Designer Sets', 'Creature', 'Barraki',\n",
       "       'Creator', 'Police', 'Train', 'Traffic', 'Hospital',\n",
       "       'Universal Building Set', 'Spyrius', 'Coast Guard', 'Pirates II',\n",
       "       'Batman', 'Fire', 'Battle Vehicles', 'Basic', 'Belville',\n",
       "       'Prisoner of Azkaban', 'Planet Series 2', 'Advent Sub-Set',\n",
       "       'Holiday', 'Technic', 'Matoran of Mata Nui', 'Wolfpack',\n",
       "       'Bulk Bricks', 'Power Racers', 'Knights Kingdom II', 'Sculptures',\n",
       "       'Matoran of Light', 'Speed Champions', 'Cars', 'Rock Raiders',\n",
       "       'Turaga', 'Toa Hordika', 'Mars Mission', 'Pirates', 'Heroes',\n",
       "       'Mistika', 'Robot', 'Fantasy Era', 'Launch Command', '9V',\n",
       "       'Spider-Man', 'Matoran of Metru Nui', 'Discovery', 'Arctic',\n",
       "       'Team GB', 'Forestmen', 'Legends of Chima',\n",
       "       'Series 11 Minifigures', 'RC Train', 'Pirates III', 'Town',\n",
       "       'Series 3 Minifigures', 'Pirates I', 'Food & Drink', 'Bionicle',\n",
       "       'Exo-Force', 'Star Wars', 'Toa Metru', 'City', 'Toa', 'Basketball',\n",
       "       'Construction', 'Harry Potter', 'Cargo', 'Friends',\n",
       "       'Series 13 Minifigures', 'World City',\n",
       "       'The Fellowship of the Ring', 'Airport', 'Matoran of Mahri Nui',\n",
       "       'Fairy-Tale', 'Aquaraiders II', 'Race'], dtype=object)"
      ]
     },
     "execution_count": 35,
     "metadata": {},
     "output_type": "execute_result"
    }
   ],
   "source": [
    "# using naive bayes to predict\n",
    "type(train)\n",
    "train['name_theme'].unique()"
   ]
  },
  {
   "cell_type": "code",
   "execution_count": 52,
   "metadata": {},
   "outputs": [],
   "source": [
    "#Import Library of Gaussian Naive Bayes model\n",
    "from sklearn.naive_bayes import GaussianNB\n",
    "import numpy as np"
   ]
  },
  {
   "cell_type": "code",
   "execution_count": 45,
   "metadata": {},
   "outputs": [],
   "source": [
    "model = GaussianNB()"
   ]
  },
  {
   "cell_type": "code",
   "execution_count": 1,
   "metadata": {},
   "outputs": [
    {
     "ename": "NameError",
     "evalue": "name 'train' is not defined",
     "output_type": "error",
     "traceback": [
      "\u001b[0;31m---------------------------------------------------------------------------\u001b[0m",
      "\u001b[0;31mNameError\u001b[0m                                 Traceback (most recent call last)",
      "\u001b[0;32m<ipython-input-1-3e5eb1685787>\u001b[0m in \u001b[0;36m<module>\u001b[0;34m()\u001b[0m\n\u001b[0;32m----> 1\u001b[0;31m \u001b[0mx\u001b[0m \u001b[0;34m=\u001b[0m \u001b[0mtrain\u001b[0m\u001b[0;34m[\u001b[0m\u001b[0;34m'num_of_parts'\u001b[0m\u001b[0;34m]\u001b[0m\u001b[0;34m.\u001b[0m\u001b[0mvalues\u001b[0m\u001b[0;34m.\u001b[0m\u001b[0mreshape\u001b[0m\u001b[0;34m(\u001b[0m\u001b[0;36m1\u001b[0m\u001b[0;34m,\u001b[0m\u001b[0;34m-\u001b[0m\u001b[0;36m1\u001b[0m\u001b[0;34m)\u001b[0m\u001b[0;34m\u001b[0m\u001b[0m\n\u001b[0m\u001b[1;32m      2\u001b[0m \u001b[0my\u001b[0m \u001b[0;34m=\u001b[0m \u001b[0mtrain\u001b[0m\u001b[0;34m[\u001b[0m\u001b[0;34m'name_theme'\u001b[0m\u001b[0;34m]\u001b[0m\u001b[0;34m\u001b[0m\u001b[0m\n\u001b[1;32m      3\u001b[0m \u001b[0;34m\u001b[0m\u001b[0m\n\u001b[1;32m      4\u001b[0m \u001b[0mmodel\u001b[0m\u001b[0;34m.\u001b[0m\u001b[0mfit\u001b[0m\u001b[0;34m(\u001b[0m\u001b[0mx\u001b[0m\u001b[0;34m,\u001b[0m \u001b[0my\u001b[0m\u001b[0;34m)\u001b[0m\u001b[0;34m\u001b[0m\u001b[0m\n",
      "\u001b[0;31mNameError\u001b[0m: name 'train' is not defined"
     ]
    }
   ],
   "source": [
    "x = train['num_of_parts'].values.reshape(1,-1) \n",
    "y = train['name_theme']\n",
    "\n",
    "model.fit(x, y)"
   ]
  },
  {
   "cell_type": "markdown",
   "metadata": {},
   "source": [
    "# What sets have the rarest pieces in them? "
   ]
  },
  {
   "cell_type": "code",
   "execution_count": 17,
   "metadata": {},
   "outputs": [
    {
     "data": {
      "text/html": [
       "<div>\n",
       "<style scoped>\n",
       "    .dataframe tbody tr th:only-of-type {\n",
       "        vertical-align: middle;\n",
       "    }\n",
       "\n",
       "    .dataframe tbody tr th {\n",
       "        vertical-align: top;\n",
       "    }\n",
       "\n",
       "    .dataframe thead th {\n",
       "        text-align: right;\n",
       "    }\n",
       "</style>\n",
       "<table border=\"1\" class=\"dataframe\">\n",
       "  <thead>\n",
       "    <tr style=\"text-align: right;\">\n",
       "      <th></th>\n",
       "      <th>set_num</th>\n",
       "      <th>name_set</th>\n",
       "      <th>year</th>\n",
       "      <th>theme_id</th>\n",
       "      <th>num_parts</th>\n",
       "      <th>id</th>\n",
       "      <th>name_theme</th>\n",
       "      <th>parent_id</th>\n",
       "      <th>inventory_id_inven</th>\n",
       "      <th>quantity_inven</th>\n",
       "      <th>part_num</th>\n",
       "      <th>name</th>\n",
       "      <th>part_cat_id</th>\n",
       "      <th>inventory_id_parts</th>\n",
       "      <th>color_id</th>\n",
       "      <th>quantity_parts</th>\n",
       "      <th>is_spare</th>\n",
       "    </tr>\n",
       "  </thead>\n",
       "  <tbody>\n",
       "    <tr>\n",
       "      <th>0</th>\n",
       "      <td>6016-1</td>\n",
       "      <td>Knights' Arsenal</td>\n",
       "      <td>1987</td>\n",
       "      <td>199</td>\n",
       "      <td>37</td>\n",
       "      <td>199</td>\n",
       "      <td>Lion Knights</td>\n",
       "      <td>186.0</td>\n",
       "      <td>2216</td>\n",
       "      <td>1</td>\n",
       "      <td>10197</td>\n",
       "      <td>Technic Pin Connector Hub with 2 Perpendicular...</td>\n",
       "      <td>12</td>\n",
       "      <td>199</td>\n",
       "      <td>72</td>\n",
       "      <td>2</td>\n",
       "      <td>f</td>\n",
       "    </tr>\n",
       "    <tr>\n",
       "      <th>1</th>\n",
       "      <td>6016-1</td>\n",
       "      <td>Knights' Arsenal</td>\n",
       "      <td>1987</td>\n",
       "      <td>199</td>\n",
       "      <td>37</td>\n",
       "      <td>199</td>\n",
       "      <td>Lion Knights</td>\n",
       "      <td>186.0</td>\n",
       "      <td>2216</td>\n",
       "      <td>1</td>\n",
       "      <td>11334</td>\n",
       "      <td>Hero Factory Armour with Spikes</td>\n",
       "      <td>41</td>\n",
       "      <td>199</td>\n",
       "      <td>15</td>\n",
       "      <td>2</td>\n",
       "      <td>f</td>\n",
       "    </tr>\n",
       "    <tr>\n",
       "      <th>2</th>\n",
       "      <td>6016-1</td>\n",
       "      <td>Knights' Arsenal</td>\n",
       "      <td>1987</td>\n",
       "      <td>199</td>\n",
       "      <td>37</td>\n",
       "      <td>199</td>\n",
       "      <td>Lion Knights</td>\n",
       "      <td>186.0</td>\n",
       "      <td>2216</td>\n",
       "      <td>1</td>\n",
       "      <td>15365pat0001</td>\n",
       "      <td>Bionicle Zamor Sphere with Marbled White / Blu...</td>\n",
       "      <td>41</td>\n",
       "      <td>199</td>\n",
       "      <td>1</td>\n",
       "      <td>1</td>\n",
       "      <td>f</td>\n",
       "    </tr>\n",
       "    <tr>\n",
       "      <th>3</th>\n",
       "      <td>6016-1</td>\n",
       "      <td>Knights' Arsenal</td>\n",
       "      <td>1987</td>\n",
       "      <td>199</td>\n",
       "      <td>37</td>\n",
       "      <td>199</td>\n",
       "      <td>Lion Knights</td>\n",
       "      <td>186.0</td>\n",
       "      <td>2216</td>\n",
       "      <td>1</td>\n",
       "      <td>15366</td>\n",
       "      <td>Hero Factory Full Torso Armor with Connector f...</td>\n",
       "      <td>41</td>\n",
       "      <td>199</td>\n",
       "      <td>148</td>\n",
       "      <td>1</td>\n",
       "      <td>f</td>\n",
       "    </tr>\n",
       "    <tr>\n",
       "      <th>4</th>\n",
       "      <td>6016-1</td>\n",
       "      <td>Knights' Arsenal</td>\n",
       "      <td>1987</td>\n",
       "      <td>199</td>\n",
       "      <td>37</td>\n",
       "      <td>199</td>\n",
       "      <td>Lion Knights</td>\n",
       "      <td>186.0</td>\n",
       "      <td>2216</td>\n",
       "      <td>1</td>\n",
       "      <td>15376pat01</td>\n",
       "      <td>Large Figure Head Modified Chima Mammoth with ...</td>\n",
       "      <td>41</td>\n",
       "      <td>199</td>\n",
       "      <td>70</td>\n",
       "      <td>1</td>\n",
       "      <td>f</td>\n",
       "    </tr>\n",
       "  </tbody>\n",
       "</table>\n",
       "</div>"
      ],
      "text/plain": [
       "  set_num          name_set  year  theme_id  num_parts   id    name_theme  \\\n",
       "0  6016-1  Knights' Arsenal  1987       199         37  199  Lion Knights   \n",
       "1  6016-1  Knights' Arsenal  1987       199         37  199  Lion Knights   \n",
       "2  6016-1  Knights' Arsenal  1987       199         37  199  Lion Knights   \n",
       "3  6016-1  Knights' Arsenal  1987       199         37  199  Lion Knights   \n",
       "4  6016-1  Knights' Arsenal  1987       199         37  199  Lion Knights   \n",
       "\n",
       "   parent_id  inventory_id_inven  quantity_inven      part_num  \\\n",
       "0      186.0                2216               1         10197   \n",
       "1      186.0                2216               1         11334   \n",
       "2      186.0                2216               1  15365pat0001   \n",
       "3      186.0                2216               1         15366   \n",
       "4      186.0                2216               1    15376pat01   \n",
       "\n",
       "                                                name  part_cat_id  \\\n",
       "0  Technic Pin Connector Hub with 2 Perpendicular...           12   \n",
       "1                    Hero Factory Armour with Spikes           41   \n",
       "2  Bionicle Zamor Sphere with Marbled White / Blu...           41   \n",
       "3  Hero Factory Full Torso Armor with Connector f...           41   \n",
       "4  Large Figure Head Modified Chima Mammoth with ...           41   \n",
       "\n",
       "   inventory_id_parts  color_id  quantity_parts is_spare  \n",
       "0                 199        72               2        f  \n",
       "1                 199        15               2        f  \n",
       "2                 199         1               1        f  \n",
       "3                 199       148               1        f  \n",
       "4                 199        70               1        f  "
      ]
     },
     "execution_count": 17,
     "metadata": {},
     "output_type": "execute_result"
    }
   ],
   "source": [
    "# what is the rarest pieces in each sets?\n",
    "# group by set, show part names\n",
    "t5.head()\n"
   ]
  },
  {
   "cell_type": "code",
   "execution_count": 27,
   "metadata": {},
   "outputs": [],
   "source": [
    "q4 = t5[['name_set','name']]\n"
   ]
  },
  {
   "cell_type": "code",
   "execution_count": 44,
   "metadata": {},
   "outputs": [],
   "source": [
    "dfnew = q4.groupby(by=['name_set'])"
   ]
  },
  {
   "cell_type": "code",
   "execution_count": 50,
   "metadata": {},
   "outputs": [],
   "source": [
    "data = q4.groupby(['name_set', 'name']).size()"
   ]
  },
  {
   "cell_type": "code",
   "execution_count": 59,
   "metadata": {},
   "outputs": [
    {
     "data": {
      "text/plain": [
       "name_set                   name                                        \n",
       " Spectre                   Technic Digger Bucket 4 x 4 x 9 with 3 teeth    1\n",
       "                           Technic Digger Bucket 8 x 10                    1\n",
       "                           Technic Metal Hook - Large                      1\n",
       "'Where Are My Pants?' Guy  Antenna 1 x 4 with Rounded Top                  1\n",
       "                           Baseplate 8 x 16                                1\n",
       "dtype: int64"
      ]
     },
     "execution_count": 59,
     "metadata": {},
     "output_type": "execute_result"
    }
   ],
   "source": [
    "data.head()"
   ]
  },
  {
   "cell_type": "code",
   "execution_count": 60,
   "metadata": {},
   "outputs": [
    {
     "data": {
      "text/plain": [
       "pandas.core.series.Series"
      ]
     },
     "execution_count": 60,
     "metadata": {},
     "output_type": "execute_result"
    }
   ],
   "source": [
    "type(data)"
   ]
  },
  {
   "cell_type": "code",
   "execution_count": 74,
   "metadata": {},
   "outputs": [],
   "source": [
    "# if all parts number is 1, there is no rarest parts\n",
    "# if the parts number change a lot, and has obvious small sparts numbers\n",
    "d1 = dict(data)"
   ]
  },
  {
   "cell_type": "code",
   "execution_count": 71,
   "metadata": {},
   "outputs": [
    {
     "data": {
      "text/plain": [
       "builtin_function_or_method"
      ]
     },
     "execution_count": 71,
     "metadata": {},
     "output_type": "execute_result"
    }
   ],
   "source": [
    "type(d1)\n"
   ]
  }
 ],
 "metadata": {
  "kernelspec": {
   "display_name": "Python 3",
   "language": "python",
   "name": "python3"
  },
  "language_info": {
   "codemirror_mode": {
    "name": "ipython",
    "version": 3
   },
   "file_extension": ".py",
   "mimetype": "text/x-python",
   "name": "python",
   "nbconvert_exporter": "python",
   "pygments_lexer": "ipython3",
   "version": "3.6.4"
  }
 },
 "nbformat": 4,
 "nbformat_minor": 2
}
