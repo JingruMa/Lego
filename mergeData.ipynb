{
 "cells": [
  {
   "cell_type": "code",
   "execution_count": 60,
   "metadata": {},
   "outputs": [],
   "source": [
    "# predict which theme ...\n",
    "import pandas as pd\n",
    "import numpy as np"
   ]
  },
  {
   "cell_type": "code",
   "execution_count": 61,
   "metadata": {},
   "outputs": [],
   "source": [
    "# read data -- sets\n",
    "setsfile = '~/Documents/MSofDS/Spring2018/DS-Project2/lego-database/sets.csv'\n",
    "sets = pd.read_csv(setsfile)\n",
    "#sets.head()"
   ]
  },
  {
   "cell_type": "code",
   "execution_count": 62,
   "metadata": {},
   "outputs": [],
   "source": [
    "themefile = '~/Documents/MSofDS/Spring2018/DS-Project2/lego-database/themes.csv'\n",
    "themes = pd.read_csv(themefile)\n",
    "#themes.head()"
   ]
  },
  {
   "cell_type": "code",
   "execution_count": 63,
   "metadata": {},
   "outputs": [],
   "source": [
    "setsinvenfile = '~/Documents/MSofDS/Spring2018/DS-Project2/lego-database/inventory_sets.csv'\n",
    "invenotry_sets = pd.read_csv(setsinvenfile)"
   ]
  },
  {
   "cell_type": "code",
   "execution_count": 64,
   "metadata": {},
   "outputs": [],
   "source": [
    "invenfile = '~/Documents/MSofDS/Spring2018/DS-Project2/lego-database/inventories.csv'\n",
    "invenotries = pd.read_csv(invenfile)\n",
    "#invenotries.head()"
   ]
  },
  {
   "cell_type": "code",
   "execution_count": 65,
   "metadata": {},
   "outputs": [],
   "source": [
    "invenpartsfile = '~/Documents/MSofDS/Spring2018/DS-Project2/lego-database/inventory_parts.csv'\n",
    "invenotry_parts = pd.read_csv(invenpartsfile)"
   ]
  },
  {
   "cell_type": "code",
   "execution_count": 66,
   "metadata": {},
   "outputs": [],
   "source": [
    "partsfile = '~/Documents/MSofDS/Spring2018/DS-Project2/lego-database/parts.csv'\n",
    "parts = pd.read_csv(partsfile)\n",
    "#parts.head()"
   ]
  },
  {
   "cell_type": "code",
   "execution_count": 67,
   "metadata": {},
   "outputs": [],
   "source": [
    "colorsfile = '~/Documents/MSofDS/Spring2018/DS-Project2/lego-database/colors.csv'\n",
    "colors = pd.read_csv(colorsfile)"
   ]
  },
  {
   "cell_type": "code",
   "execution_count": 68,
   "metadata": {},
   "outputs": [],
   "source": [
    "partcatfile = '~/Documents/MSofDS/Spring2018/DS-Project2/lego-database/part_categories.csv'\n",
    "part_category = pd.read_csv(partcatfile)\n",
    "#part_category.head()"
   ]
  },
  {
   "cell_type": "code",
   "execution_count": 69,
   "metadata": {},
   "outputs": [],
   "source": [
    "# given the information about parts, predict the theme of a set"
   ]
  },
  {
   "cell_type": "code",
   "execution_count": 70,
   "metadata": {},
   "outputs": [],
   "source": [
    "#join sets and themes together\n",
    "t1 = pd.merge(sets,themes, left_on = 'theme_id', right_on = 'id', suffixes = ('_set','_theme'))"
   ]
  },
  {
   "cell_type": "code",
   "execution_count": 71,
   "metadata": {},
   "outputs": [],
   "source": [
    "# join t1 with ivnetories, inventoryset inventory parts\n",
    "t4 = pd.merge(t1,invenotry_sets, on = 'set_num')\n",
    "#t4.head()"
   ]
  },
  {
   "cell_type": "code",
   "execution_count": 72,
   "metadata": {},
   "outputs": [
    {
     "data": {
      "text/html": [
       "<div>\n",
       "<style scoped>\n",
       "    .dataframe tbody tr th:only-of-type {\n",
       "        vertical-align: middle;\n",
       "    }\n",
       "\n",
       "    .dataframe tbody tr th {\n",
       "        vertical-align: top;\n",
       "    }\n",
       "\n",
       "    .dataframe thead th {\n",
       "        text-align: right;\n",
       "    }\n",
       "</style>\n",
       "<table border=\"1\" class=\"dataframe\">\n",
       "  <thead>\n",
       "    <tr style=\"text-align: right;\">\n",
       "      <th></th>\n",
       "      <th>set_num</th>\n",
       "      <th>name_set</th>\n",
       "      <th>year</th>\n",
       "      <th>id</th>\n",
       "      <th>name_theme</th>\n",
       "      <th>quantity</th>\n",
       "    </tr>\n",
       "  </thead>\n",
       "  <tbody>\n",
       "    <tr>\n",
       "      <th>467</th>\n",
       "      <td>71017-1</td>\n",
       "      <td>Lobster-Lovin’ Batman™</td>\n",
       "      <td>2017</td>\n",
       "      <td>484</td>\n",
       "      <td>Batman</td>\n",
       "      <td>1</td>\n",
       "    </tr>\n",
       "    <tr>\n",
       "      <th>468</th>\n",
       "      <td>71017-10</td>\n",
       "      <td>Pink Power Batgirl™</td>\n",
       "      <td>2017</td>\n",
       "      <td>484</td>\n",
       "      <td>Batman</td>\n",
       "      <td>1</td>\n",
       "    </tr>\n",
       "    <tr>\n",
       "      <th>469</th>\n",
       "      <td>71017-11</td>\n",
       "      <td>Red Hood™</td>\n",
       "      <td>2017</td>\n",
       "      <td>484</td>\n",
       "      <td>Batman</td>\n",
       "      <td>1</td>\n",
       "    </tr>\n",
       "    <tr>\n",
       "      <th>470</th>\n",
       "      <td>71017-12</td>\n",
       "      <td>The Eraser™</td>\n",
       "      <td>2017</td>\n",
       "      <td>484</td>\n",
       "      <td>Batman</td>\n",
       "      <td>1</td>\n",
       "    </tr>\n",
       "    <tr>\n",
       "      <th>471</th>\n",
       "      <td>71017-13</td>\n",
       "      <td>Nurse Harley Quinn™</td>\n",
       "      <td>2017</td>\n",
       "      <td>484</td>\n",
       "      <td>Batman</td>\n",
       "      <td>1</td>\n",
       "    </tr>\n",
       "  </tbody>\n",
       "</table>\n",
       "</div>"
      ],
      "text/plain": [
       "      set_num                name_set  year   id name_theme  quantity\n",
       "467   71017-1  Lobster-Lovin’ Batman™  2017  484     Batman         1\n",
       "468  71017-10     Pink Power Batgirl™  2017  484     Batman         1\n",
       "469  71017-11               Red Hood™  2017  484     Batman         1\n",
       "470  71017-12             The Eraser™  2017  484     Batman         1\n",
       "471  71017-13     Nurse Harley Quinn™  2017  484     Batman         1"
      ]
     },
     "execution_count": 72,
     "metadata": {},
     "output_type": "execute_result"
    }
   ],
   "source": [
    "t4 = t4.drop(t4.columns[[3, 4,7,8]], axis=1)\n",
    "# having too much dataset, choose all years > 2010 to use\n",
    "t4 = t4[t4['year']>2014] #198 rows and 6 columns\n",
    "t4.head() "
   ]
  },
  {
   "cell_type": "code",
   "execution_count": 73,
   "metadata": {},
   "outputs": [
    {
     "data": {
      "text/html": [
       "<div>\n",
       "<style scoped>\n",
       "    .dataframe tbody tr th:only-of-type {\n",
       "        vertical-align: middle;\n",
       "    }\n",
       "\n",
       "    .dataframe tbody tr th {\n",
       "        vertical-align: top;\n",
       "    }\n",
       "\n",
       "    .dataframe thead th {\n",
       "        text-align: right;\n",
       "    }\n",
       "</style>\n",
       "<table border=\"1\" class=\"dataframe\">\n",
       "  <thead>\n",
       "    <tr style=\"text-align: right;\">\n",
       "      <th></th>\n",
       "      <th>part_num</th>\n",
       "      <th>name_part</th>\n",
       "      <th>name_category</th>\n",
       "      <th>color_id</th>\n",
       "      <th>quantity</th>\n",
       "      <th>is_spare</th>\n",
       "    </tr>\n",
       "  </thead>\n",
       "  <tbody>\n",
       "    <tr>\n",
       "      <th>0</th>\n",
       "      <td>0687b1</td>\n",
       "      <td>Set 0687 Activity Booklet 1</td>\n",
       "      <td>Non-LEGO</td>\n",
       "      <td>9999</td>\n",
       "      <td>1</td>\n",
       "      <td>f</td>\n",
       "    </tr>\n",
       "    <tr>\n",
       "      <th>1</th>\n",
       "      <td>10016414</td>\n",
       "      <td>Sticker Sheet #1 for 41055-1</td>\n",
       "      <td>Non-LEGO</td>\n",
       "      <td>9999</td>\n",
       "      <td>1</td>\n",
       "      <td>t</td>\n",
       "    </tr>\n",
       "    <tr>\n",
       "      <th>2</th>\n",
       "      <td>10019stk01</td>\n",
       "      <td>Sticker for Set 10019 - (43274/4170393)</td>\n",
       "      <td>Non-LEGO</td>\n",
       "      <td>9999</td>\n",
       "      <td>1</td>\n",
       "      <td>t</td>\n",
       "    </tr>\n",
       "    <tr>\n",
       "      <th>3</th>\n",
       "      <td>10026stk01</td>\n",
       "      <td>Sticker for Set 10026 - (44942/4184185)</td>\n",
       "      <td>Non-LEGO</td>\n",
       "      <td>9999</td>\n",
       "      <td>1</td>\n",
       "      <td>t</td>\n",
       "    </tr>\n",
       "    <tr>\n",
       "      <th>4</th>\n",
       "      <td>10029stk01</td>\n",
       "      <td>Sticker for Set 10029 - (4216816)</td>\n",
       "      <td>Non-LEGO</td>\n",
       "      <td>9999</td>\n",
       "      <td>1</td>\n",
       "      <td>t</td>\n",
       "    </tr>\n",
       "  </tbody>\n",
       "</table>\n",
       "</div>"
      ],
      "text/plain": [
       "     part_num                                name_part name_category  \\\n",
       "0      0687b1              Set 0687 Activity Booklet 1      Non-LEGO   \n",
       "1    10016414             Sticker Sheet #1 for 41055-1      Non-LEGO   \n",
       "2  10019stk01  Sticker for Set 10019 - (43274/4170393)      Non-LEGO   \n",
       "3  10026stk01  Sticker for Set 10026 - (44942/4184185)      Non-LEGO   \n",
       "4  10029stk01        Sticker for Set 10029 - (4216816)      Non-LEGO   \n",
       "\n",
       "   color_id  quantity is_spare  \n",
       "0      9999         1        f  \n",
       "1      9999         1        t  \n",
       "2      9999         1        t  \n",
       "3      9999         1        t  \n",
       "4      9999         1        t  "
      ]
     },
     "execution_count": 73,
     "metadata": {},
     "output_type": "execute_result"
    }
   ],
   "source": [
    "# then join parts and color and categories, and then join sets with them\n",
    "\n",
    "#join parts with part_categories\n",
    "t2 = pd.merge(parts,part_category, left_on = 'part_cat_id', right_on = 'id', suffixes = ('_part','_category'))\n",
    "#join t2 with color (t2 join inventory and inventory join color)\n",
    "t3 = pd.merge(t2, invenotry_parts, on = 'part_num')\n",
    "# drop useless columns\n",
    "t3 = t3.drop(t3.columns[[2, 3, 5]], axis=1)\n",
    "t3.head()"
   ]
  },
  {
   "cell_type": "code",
   "execution_count": 74,
   "metadata": {},
   "outputs": [],
   "source": [
    "t5 = pd.merge(t4, invenotry_parts, left_on = 'id', right_on = 'inventory_id', how = 'inner',suffixes = ('_inven','_parts'))\n",
    "t3 = t3.drop(t3.columns[[3]], axis=1)\n",
    "#t5.head()"
   ]
  },
  {
   "cell_type": "code",
   "execution_count": 78,
   "metadata": {},
   "outputs": [
    {
     "data": {
      "text/html": [
       "<div>\n",
       "<style scoped>\n",
       "    .dataframe tbody tr th:only-of-type {\n",
       "        vertical-align: middle;\n",
       "    }\n",
       "\n",
       "    .dataframe tbody tr th {\n",
       "        vertical-align: top;\n",
       "    }\n",
       "\n",
       "    .dataframe thead th {\n",
       "        text-align: right;\n",
       "    }\n",
       "</style>\n",
       "<table border=\"1\" class=\"dataframe\">\n",
       "  <thead>\n",
       "    <tr style=\"text-align: right;\">\n",
       "      <th></th>\n",
       "      <th>part_num</th>\n",
       "      <th>name_part</th>\n",
       "      <th>name_category</th>\n",
       "      <th>quantity</th>\n",
       "      <th>is_spare_x</th>\n",
       "      <th>set_num</th>\n",
       "      <th>name_set</th>\n",
       "      <th>year</th>\n",
       "      <th>id</th>\n",
       "      <th>name_theme</th>\n",
       "      <th>quantity_inven</th>\n",
       "      <th>inventory_id</th>\n",
       "      <th>color_id</th>\n",
       "      <th>quantity_parts</th>\n",
       "      <th>is_spare_y</th>\n",
       "    </tr>\n",
       "  </thead>\n",
       "  <tbody>\n",
       "    <tr>\n",
       "      <th>0</th>\n",
       "      <td>6361stk01</td>\n",
       "      <td>Sticker for Set 6361 - (190145)</td>\n",
       "      <td>Non-LEGO</td>\n",
       "      <td>1</td>\n",
       "      <td>t</td>\n",
       "      <td>75899-1</td>\n",
       "      <td>LaFerrari</td>\n",
       "      <td>2015</td>\n",
       "      <td>601</td>\n",
       "      <td>Speed Champions</td>\n",
       "      <td>1</td>\n",
       "      <td>601</td>\n",
       "      <td>9999</td>\n",
       "      <td>1</td>\n",
       "      <td>t</td>\n",
       "    </tr>\n",
       "    <tr>\n",
       "      <th>1</th>\n",
       "      <td>6361stk01</td>\n",
       "      <td>Sticker for Set 6361 - (190145)</td>\n",
       "      <td>Non-LEGO</td>\n",
       "      <td>1</td>\n",
       "      <td>t</td>\n",
       "      <td>75908-1</td>\n",
       "      <td>458 Italia GT2</td>\n",
       "      <td>2015</td>\n",
       "      <td>601</td>\n",
       "      <td>Speed Champions</td>\n",
       "      <td>1</td>\n",
       "      <td>601</td>\n",
       "      <td>9999</td>\n",
       "      <td>1</td>\n",
       "      <td>t</td>\n",
       "    </tr>\n",
       "    <tr>\n",
       "      <th>2</th>\n",
       "      <td>6361stk01</td>\n",
       "      <td>Sticker for Set 6361 - (190145)</td>\n",
       "      <td>Non-LEGO</td>\n",
       "      <td>1</td>\n",
       "      <td>t</td>\n",
       "      <td>75909-1</td>\n",
       "      <td>McLaren P1</td>\n",
       "      <td>2015</td>\n",
       "      <td>601</td>\n",
       "      <td>Speed Champions</td>\n",
       "      <td>1</td>\n",
       "      <td>601</td>\n",
       "      <td>9999</td>\n",
       "      <td>1</td>\n",
       "      <td>t</td>\n",
       "    </tr>\n",
       "    <tr>\n",
       "      <th>3</th>\n",
       "      <td>6361stk01</td>\n",
       "      <td>Sticker for Set 6361 - (190145)</td>\n",
       "      <td>Non-LEGO</td>\n",
       "      <td>1</td>\n",
       "      <td>t</td>\n",
       "      <td>75910-1</td>\n",
       "      <td>Porsche 918 Spyder</td>\n",
       "      <td>2015</td>\n",
       "      <td>601</td>\n",
       "      <td>Speed Champions</td>\n",
       "      <td>1</td>\n",
       "      <td>601</td>\n",
       "      <td>9999</td>\n",
       "      <td>1</td>\n",
       "      <td>t</td>\n",
       "    </tr>\n",
       "    <tr>\n",
       "      <th>4</th>\n",
       "      <td>6361stk01</td>\n",
       "      <td>Sticker for Set 6361 - (190145)</td>\n",
       "      <td>Non-LEGO</td>\n",
       "      <td>1</td>\n",
       "      <td>t</td>\n",
       "      <td>75911-1</td>\n",
       "      <td>McLaren Mercedes Pit Stop</td>\n",
       "      <td>2015</td>\n",
       "      <td>601</td>\n",
       "      <td>Speed Champions</td>\n",
       "      <td>1</td>\n",
       "      <td>601</td>\n",
       "      <td>9999</td>\n",
       "      <td>1</td>\n",
       "      <td>t</td>\n",
       "    </tr>\n",
       "  </tbody>\n",
       "</table>\n",
       "</div>"
      ],
      "text/plain": [
       "    part_num                        name_part name_category  quantity  \\\n",
       "0  6361stk01  Sticker for Set 6361 - (190145)      Non-LEGO         1   \n",
       "1  6361stk01  Sticker for Set 6361 - (190145)      Non-LEGO         1   \n",
       "2  6361stk01  Sticker for Set 6361 - (190145)      Non-LEGO         1   \n",
       "3  6361stk01  Sticker for Set 6361 - (190145)      Non-LEGO         1   \n",
       "4  6361stk01  Sticker for Set 6361 - (190145)      Non-LEGO         1   \n",
       "\n",
       "  is_spare_x  set_num                   name_set  year   id       name_theme  \\\n",
       "0          t  75899-1                  LaFerrari  2015  601  Speed Champions   \n",
       "1          t  75908-1             458 Italia GT2  2015  601  Speed Champions   \n",
       "2          t  75909-1                 McLaren P1  2015  601  Speed Champions   \n",
       "3          t  75910-1         Porsche 918 Spyder  2015  601  Speed Champions   \n",
       "4          t  75911-1  McLaren Mercedes Pit Stop  2015  601  Speed Champions   \n",
       "\n",
       "   quantity_inven  inventory_id  color_id  quantity_parts is_spare_y  \n",
       "0               1           601      9999               1          t  \n",
       "1               1           601      9999               1          t  \n",
       "2               1           601      9999               1          t  \n",
       "3               1           601      9999               1          t  \n",
       "4               1           601      9999               1          t  "
      ]
     },
     "execution_count": 78,
     "metadata": {},
     "output_type": "execute_result"
    }
   ],
   "source": [
    "df = pd.merge(t3,t5, on = 'part_num')\n",
    "df.head()"
   ]
  },
  {
   "cell_type": "code",
   "execution_count": 79,
   "metadata": {},
   "outputs": [
    {
     "name": "stdout",
     "output_type": "stream",
     "text": [
      "16561358\n"
     ]
    }
   ],
   "source": [
    "# drop useless column \n",
    "df = df.drop(df.columns[[0, 3,5,8,11,14]], axis=1)\n",
    "# get column name and # of rows of df\n",
    "print(len(df.index))"
   ]
  },
  {
   "cell_type": "code",
   "execution_count": 80,
   "metadata": {},
   "outputs": [],
   "source": [
    "# divide training set, validation set and testing set\n",
    "from sklearn.model_selection import train_test_split\n",
    "\n",
    "train, test = train_test_split(df, test_size=0.4)  #60% training test and 40% testing "
   ]
  },
  {
   "cell_type": "code",
   "execution_count": 46,
   "metadata": {},
   "outputs": [
    {
     "name": "stdout",
     "output_type": "stream",
     "text": [
      "9936814\n"
     ]
    }
   ],
   "source": [
    "# check how many rows in the training dataset\n",
    "print(len(train.index))"
   ]
  },
  {
   "cell_type": "code",
   "execution_count": 47,
   "metadata": {},
   "outputs": [
    {
     "name": "stdout",
     "output_type": "stream",
     "text": [
      "6624544\n"
     ]
    }
   ],
   "source": [
    "# check how many rows in the testing dataset\n",
    "print(len(test.index))"
   ]
  },
  {
   "cell_type": "code",
   "execution_count": 81,
   "metadata": {},
   "outputs": [
    {
     "data": {
      "text/html": [
       "<div>\n",
       "<style scoped>\n",
       "    .dataframe tbody tr th:only-of-type {\n",
       "        vertical-align: middle;\n",
       "    }\n",
       "\n",
       "    .dataframe tbody tr th {\n",
       "        vertical-align: top;\n",
       "    }\n",
       "\n",
       "    .dataframe thead th {\n",
       "        text-align: right;\n",
       "    }\n",
       "</style>\n",
       "<table border=\"1\" class=\"dataframe\">\n",
       "  <thead>\n",
       "    <tr style=\"text-align: right;\">\n",
       "      <th></th>\n",
       "      <th>name_part</th>\n",
       "      <th>name_category</th>\n",
       "      <th>is_spare_x</th>\n",
       "      <th>name_set</th>\n",
       "      <th>year</th>\n",
       "      <th>name_theme</th>\n",
       "      <th>quantity_inven</th>\n",
       "      <th>color_id</th>\n",
       "      <th>quantity_parts</th>\n",
       "    </tr>\n",
       "  </thead>\n",
       "  <tbody>\n",
       "    <tr>\n",
       "      <th>2206072</th>\n",
       "      <td>Brick Special 1 x 1 with Stud on 1 Side</td>\n",
       "      <td>Bricks Special</td>\n",
       "      <td>f</td>\n",
       "      <td>Dribbal</td>\n",
       "      <td>2015</td>\n",
       "      <td>Series 6</td>\n",
       "      <td>1</td>\n",
       "      <td>4</td>\n",
       "      <td>1</td>\n",
       "    </tr>\n",
       "    <tr>\n",
       "      <th>15383388</th>\n",
       "      <td>Slope 30° 1 x 1 x 2/3 (Cheese Slope)</td>\n",
       "      <td>Bricks Sloped</td>\n",
       "      <td>f</td>\n",
       "      <td>Vacation Batman™</td>\n",
       "      <td>2017</td>\n",
       "      <td>Batman</td>\n",
       "      <td>1</td>\n",
       "      <td>71</td>\n",
       "      <td>3</td>\n",
       "    </tr>\n",
       "    <tr>\n",
       "      <th>15573737</th>\n",
       "      <td>Slope 30° 1 x 1 x 2/3 (Cheese Slope)</td>\n",
       "      <td>Bricks Sloped</td>\n",
       "      <td>f</td>\n",
       "      <td>Rogue</td>\n",
       "      <td>2016</td>\n",
       "      <td>Series 16 Minifigures</td>\n",
       "      <td>1</td>\n",
       "      <td>71</td>\n",
       "      <td>1</td>\n",
       "    </tr>\n",
       "    <tr>\n",
       "      <th>4408415</th>\n",
       "      <td>Plate 1 x 2</td>\n",
       "      <td>Plates</td>\n",
       "      <td>f</td>\n",
       "      <td>Clumsy Guy</td>\n",
       "      <td>2016</td>\n",
       "      <td>Series 15 Minifigures</td>\n",
       "      <td>1</td>\n",
       "      <td>27</td>\n",
       "      <td>1</td>\n",
       "    </tr>\n",
       "    <tr>\n",
       "      <th>596261</th>\n",
       "      <td>Plate Special 1 x 1 with Clip Light [Thick Ring]</td>\n",
       "      <td>Plates Special</td>\n",
       "      <td>f</td>\n",
       "      <td>Glam Metal Batman™</td>\n",
       "      <td>2017</td>\n",
       "      <td>Batman</td>\n",
       "      <td>1</td>\n",
       "      <td>15</td>\n",
       "      <td>2</td>\n",
       "    </tr>\n",
       "  </tbody>\n",
       "</table>\n",
       "</div>"
      ],
      "text/plain": [
       "                                                 name_part   name_category  \\\n",
       "2206072            Brick Special 1 x 1 with Stud on 1 Side  Bricks Special   \n",
       "15383388              Slope 30° 1 x 1 x 2/3 (Cheese Slope)   Bricks Sloped   \n",
       "15573737              Slope 30° 1 x 1 x 2/3 (Cheese Slope)   Bricks Sloped   \n",
       "4408415                                        Plate 1 x 2          Plates   \n",
       "596261    Plate Special 1 x 1 with Clip Light [Thick Ring]  Plates Special   \n",
       "\n",
       "         is_spare_x            name_set  year             name_theme  \\\n",
       "2206072           f             Dribbal  2015               Series 6   \n",
       "15383388          f    Vacation Batman™  2017                 Batman   \n",
       "15573737          f               Rogue  2016  Series 16 Minifigures   \n",
       "4408415           f          Clumsy Guy  2016  Series 15 Minifigures   \n",
       "596261            f  Glam Metal Batman™  2017                 Batman   \n",
       "\n",
       "          quantity_inven  color_id  quantity_parts  \n",
       "2206072                1         4               1  \n",
       "15383388               1        71               3  \n",
       "15573737               1        71               1  \n",
       "4408415                1        27               1  \n",
       "596261                 1        15               2  "
      ]
     },
     "execution_count": 81,
     "metadata": {},
     "output_type": "execute_result"
    }
   ],
   "source": [
    "train.head()"
   ]
  },
  {
   "cell_type": "code",
   "execution_count": 82,
   "metadata": {},
   "outputs": [
    {
     "data": {
      "text/plain": [
       "['name_part',\n",
       " 'name_category',\n",
       " 'is_spare_x',\n",
       " 'name_set',\n",
       " 'year',\n",
       " 'name_theme',\n",
       " 'quantity_inven',\n",
       " 'color_id',\n",
       " 'quantity_parts']"
      ]
     },
     "execution_count": 82,
     "metadata": {},
     "output_type": "execute_result"
    }
   ],
   "source": [
    "list(train) \n",
    "#9 columns, want to predict theme_name \n",
    "# based on category_name, \n",
    "# quantity_x(inven quantity), is_spare_x, setname, color, quantity_y(inventory_parts quantity)"
   ]
  },
  {
   "cell_type": "code",
   "execution_count": 83,
   "metadata": {},
   "outputs": [],
   "source": [
    "# explanotary variables: both categorical and numeric\n",
    "# response variable: categorical \n"
   ]
  },
  {
   "cell_type": "code",
   "execution_count": 86,
   "metadata": {},
   "outputs": [
    {
     "data": {
      "text/plain": [
       "['Bars, Ladders and Fences',\n",
       " 'Baseplates',\n",
       " 'Bricks',\n",
       " 'Bricks Curved',\n",
       " 'Bricks Round and Cones',\n",
       " 'Bricks Sloped',\n",
       " 'Bricks Special',\n",
       " 'Flags, Signs, Plastics and Cloth',\n",
       " 'Hinges, Arms and Turntables',\n",
       " 'Minifig Accessories',\n",
       " 'Minifigs',\n",
       " 'Non-LEGO',\n",
       " 'Panels',\n",
       " 'Plants and Animals',\n",
       " 'Plates',\n",
       " 'Plates Angled',\n",
       " 'Plates Round and Dishes',\n",
       " 'Plates Special',\n",
       " 'Rock',\n",
       " 'String, Bands and Reels',\n",
       " 'Supports, Girders and Cranes',\n",
       " 'Technic Bricks',\n",
       " 'Technic Pins',\n",
       " 'Technic Special',\n",
       " 'Tiles',\n",
       " 'Tiles Printed',\n",
       " 'Tiles Special',\n",
       " 'Transportation - Land',\n",
       " 'Tubes and Hoses',\n",
       " 'Wheels and Tyres',\n",
       " 'Windows and Doors',\n",
       " 'Windscreens and Fuselage']"
      ]
     },
     "execution_count": 86,
     "metadata": {},
     "output_type": "execute_result"
    }
   ],
   "source": [
    "# unique values in category_name\n",
    "sorted(df['name_category'].unique())"
   ]
  },
  {
   "cell_type": "code",
   "execution_count": 88,
   "metadata": {},
   "outputs": [
    {
     "data": {
      "text/plain": [
       "[' Spectre',\n",
       " '458 Italia GT2',\n",
       " 'Alien Trooper',\n",
       " 'André Schürrle (9)',\n",
       " 'Animal Control Officer',\n",
       " 'Astronaut',\n",
       " 'Babysitter',\n",
       " 'Ballerina',\n",
       " 'Banana Guy',\n",
       " 'Banshee',\n",
       " 'Barbara Gordon™',\n",
       " 'Bart',\n",
       " 'Bastian Schweinsteiger (7)',\n",
       " 'Benedikt Höwedes (4)',\n",
       " 'Berp',\n",
       " 'Carpenter',\n",
       " 'Catman™',\n",
       " 'Christoph Kramer (20)',\n",
       " 'Clan of the Cave Batman™',\n",
       " 'Classic King',\n",
       " 'Clumsy Guy',\n",
       " 'Comic Book Guy',\n",
       " 'Commissioner Gordon™',\n",
       " 'Cute Little Devil Set',\n",
       " 'Cyborg',\n",
       " 'Desert Warrior',\n",
       " 'Dick Grayson™',\n",
       " 'Disco Diva',\n",
       " 'Dog Show Winner',\n",
       " 'Dr Hibbert',\n",
       " 'Dribbal',\n",
       " 'Drillex Diamond Job',\n",
       " 'Edna Krabappel',\n",
       " 'Egyptian Warrior',\n",
       " 'Evil Wizard',\n",
       " 'Fairy Batman™',\n",
       " 'Farmer',\n",
       " 'Faun',\n",
       " 'Fencer',\n",
       " 'Fly Monster',\n",
       " 'Flying Warrior',\n",
       " 'Forx',\n",
       " 'Frightening Knight',\n",
       " 'Galaxy Trooper',\n",
       " 'Gargoyle',\n",
       " 'Glam Metal Batman™',\n",
       " 'Goblin',\n",
       " 'Groundskeeper Willie',\n",
       " 'Gurggle',\n",
       " 'Hans Moleman',\n",
       " 'Hiker',\n",
       " 'Homer',\n",
       " 'Hot Dog Man',\n",
       " 'Ice Queen',\n",
       " 'Janitor',\n",
       " 'Jewel Thief',\n",
       " 'Joachim Löw',\n",
       " 'Jérôme Boateng (17)',\n",
       " 'Kendo Fighter',\n",
       " 'Kickboxer',\n",
       " 'King Tut™',\n",
       " 'Kramm',\n",
       " 'LEGO Minifigures - Series 13 [Random Bag]',\n",
       " 'LEGO Minifigures - Series 14 {Random bag}',\n",
       " 'LaFerrari',\n",
       " 'Lady Cyclops',\n",
       " 'Laser Mech',\n",
       " 'Lisa',\n",
       " 'Lobster-Lovin’ Batman™',\n",
       " 'Maggie',\n",
       " 'Manuel Neuer (1)',\n",
       " 'March Harriet™',\n",
       " 'Marco Reus (21)',\n",
       " 'Marge',\n",
       " 'Mariachi',\n",
       " 'Mario Götze (19)',\n",
       " 'Martin',\n",
       " 'Mats Hummels (5)',\n",
       " 'Max Kruse (23)',\n",
       " 'McLaren Mercedes Pit Stop',\n",
       " 'McLaren P1',\n",
       " 'Mesut Özil (8)',\n",
       " 'Milhouse',\n",
       " 'Monster Rocker',\n",
       " 'Monster Scientist',\n",
       " 'Nurse Harley Quinn™',\n",
       " 'Orca™',\n",
       " 'Paleontologist',\n",
       " 'Patty',\n",
       " 'Penguin Boy',\n",
       " 'Pink Power Batgirl™',\n",
       " 'Plant Monster',\n",
       " 'Porsche 911 GT Finish Line',\n",
       " 'Porsche 918 Spyder',\n",
       " 'Professor Frink',\n",
       " 'Queen',\n",
       " 'Red Hood™',\n",
       " 'Rogue',\n",
       " 'Sami Khedira (6)',\n",
       " 'Samurai',\n",
       " 'Scallywag Pirate',\n",
       " 'Selma',\n",
       " 'Shark Suit Guy',\n",
       " 'Sheriff',\n",
       " 'Shipwreck Defense',\n",
       " 'Shkodran Mustafi (2)',\n",
       " 'Skeleton Guy',\n",
       " 'Slusho',\n",
       " 'Smithers',\n",
       " 'Snake Charmer',\n",
       " 'Snax',\n",
       " 'Soldiers Fort',\n",
       " 'Soldiers Outpost',\n",
       " 'Spider Lady',\n",
       " 'Spooky Boy',\n",
       " 'Spy',\n",
       " 'Square Foot',\n",
       " 'The Calculator™',\n",
       " 'The Eraser™',\n",
       " 'The Joker™ – Arkham Asylum',\n",
       " 'The Mime™',\n",
       " 'The Simpsons Series 2 {Random bag}',\n",
       " 'Thomas Müller (13)',\n",
       " 'Tiger Woman',\n",
       " 'Toni Kroos (18)',\n",
       " 'Treasure Island',\n",
       " 'Tribal Woman',\n",
       " 'UltraCopter vs. AntiMatter',\n",
       " 'Unicorn Girl',\n",
       " 'Vacation Batman™',\n",
       " 'Vaka-Waka',\n",
       " 'Wacky Witch',\n",
       " 'Wildlife Photographer',\n",
       " 'Wolf Guy',\n",
       " 'Wrestling Champion',\n",
       " 'Wuzzo',\n",
       " 'Zodiac Master™',\n",
       " 'Zombie Businessman',\n",
       " 'Zombie Cheerleader',\n",
       " 'Zombie Pirate']"
      ]
     },
     "execution_count": 88,
     "metadata": {},
     "output_type": "execute_result"
    }
   ],
   "source": [
    "# unique setname\n",
    "sorted(df['name_set'].unique())"
   ]
  },
  {
   "cell_type": "code",
   "execution_count": 89,
   "metadata": {},
   "outputs": [
    {
     "data": {
      "text/plain": [
       "['Batman',\n",
       " 'DFB Minifigures',\n",
       " 'Pirates III',\n",
       " 'Series 13 Minifigures',\n",
       " 'Series 14 Minifigures',\n",
       " 'Series 15 Minifigures',\n",
       " 'Series 16 Minifigures',\n",
       " 'Series 6',\n",
       " 'Speed Champions',\n",
       " 'The Simpsons',\n",
       " 'Ultra Agents']"
      ]
     },
     "execution_count": 89,
     "metadata": {},
     "output_type": "execute_result"
    }
   ],
   "source": [
    "# unique theme\n",
    "sorted(df['name_theme'].unique())"
   ]
  },
  {
   "cell_type": "code",
   "execution_count": null,
   "metadata": {},
   "outputs": [],
   "source": [
    "# which model can be applied? \n",
    "##  may be Naive Bayes"
   ]
  }
 ],
 "metadata": {
  "kernelspec": {
   "display_name": "Python 3",
   "language": "python",
   "name": "python3"
  },
  "language_info": {
   "codemirror_mode": {
    "name": "ipython",
    "version": 3
   },
   "file_extension": ".py",
   "mimetype": "text/x-python",
   "name": "python",
   "nbconvert_exporter": "python",
   "pygments_lexer": "ipython3",
   "version": "3.6.4"
  }
 },
 "nbformat": 4,
 "nbformat_minor": 2
}
