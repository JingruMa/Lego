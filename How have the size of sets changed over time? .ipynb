{
 "cells": [
  {
   "cell_type": "code",
   "execution_count": 23,
   "metadata": {},
   "outputs": [],
   "source": [
    "# join the inventory_sets and sets table, sets include the yeart and inventory_sets include the quantity\n",
    "import pandas as pd\n",
    "import numpy as np"
   ]
  },
  {
   "cell_type": "code",
   "execution_count": 14,
   "metadata": {},
   "outputs": [
    {
     "data": {
      "text/plain": [
       "True"
      ]
     },
     "execution_count": 14,
     "metadata": {},
     "output_type": "execute_result"
    }
   ],
   "source": [
    "# read the data -- sets\n",
    "setsfile = '~/Documents/MSofDS/Spring2018/DS-Project2/lego-database/sets.csv'\n",
    "sets = pd.read_csv(setsfile,index_col = 'set_num')\n",
    "sets.head()\n",
    "#chech if the set_num is unique, it is unique,so the set_num is the primary key of the sets\n",
    "sets.index.is_unique"
   ]
  },
  {
   "cell_type": "code",
   "execution_count": 35,
   "metadata": {},
   "outputs": [
    {
     "data": {
      "text/plain": [
       "2846"
      ]
     },
     "execution_count": 35,
     "metadata": {},
     "output_type": "execute_result"
    }
   ],
   "source": [
    "#read data --- inventory sets\n",
    "setsinvenfile = '~/Documents/MSofDS/Spring2018/DS-Project2/lego-database/inventory_sets.csv'\n",
    "invenotry_sets = pd.read_csv(setsinvenfile,index_col = 'inventory_id')\n",
    "invenotry_sets.head()\n",
    "#check if the inventory id is unique, it is not, so inventory_id cannot be the primary key\n",
    "invenotry_sets.index.is_unique\n",
    "#so \n",
    "invenotry_sets = pd.read_csv(setsinvenfile)\n",
    "invenotry_sets.head() #index from 0, \n",
    "#i think the primary key is iventory_id & set_num, check it"
   ]
  },
  {
   "cell_type": "code",
   "execution_count": 40,
   "metadata": {},
   "outputs": [
    {
     "data": {
      "text/html": [
       "<div>\n",
       "<style scoped>\n",
       "    .dataframe tbody tr th:only-of-type {\n",
       "        vertical-align: middle;\n",
       "    }\n",
       "\n",
       "    .dataframe tbody tr th {\n",
       "        vertical-align: top;\n",
       "    }\n",
       "\n",
       "    .dataframe thead th {\n",
       "        text-align: right;\n",
       "    }\n",
       "</style>\n",
       "<table border=\"1\" class=\"dataframe\">\n",
       "  <thead>\n",
       "    <tr style=\"text-align: right;\">\n",
       "      <th></th>\n",
       "      <th>name</th>\n",
       "      <th>year</th>\n",
       "      <th>theme_id</th>\n",
       "      <th>num_parts</th>\n",
       "      <th>inventory_id</th>\n",
       "      <th>set_num</th>\n",
       "      <th>quantity</th>\n",
       "    </tr>\n",
       "  </thead>\n",
       "  <tbody>\n",
       "    <tr>\n",
       "      <th>696</th>\n",
       "      <td>Weetabix Promotional House 1</td>\n",
       "      <td>1976</td>\n",
       "      <td>413</td>\n",
       "      <td>147</td>\n",
       "      <td>3574</td>\n",
       "      <td>00-2</td>\n",
       "      <td>1</td>\n",
       "    </tr>\n",
       "    <tr>\n",
       "      <th>697</th>\n",
       "      <td>Weetabix Promotional House 2</td>\n",
       "      <td>1976</td>\n",
       "      <td>413</td>\n",
       "      <td>149</td>\n",
       "      <td>3574</td>\n",
       "      <td>00-3</td>\n",
       "      <td>1</td>\n",
       "    </tr>\n",
       "    <tr>\n",
       "      <th>698</th>\n",
       "      <td>Weetabix Promotional Windmill</td>\n",
       "      <td>1976</td>\n",
       "      <td>413</td>\n",
       "      <td>126</td>\n",
       "      <td>3574</td>\n",
       "      <td>00-4</td>\n",
       "      <td>1</td>\n",
       "    </tr>\n",
       "    <tr>\n",
       "      <th>1321</th>\n",
       "      <td>Guarded Inn</td>\n",
       "      <td>2001</td>\n",
       "      <td>186</td>\n",
       "      <td>256</td>\n",
       "      <td>7474</td>\n",
       "      <td>10000-1</td>\n",
       "      <td>1</td>\n",
       "    </tr>\n",
       "    <tr>\n",
       "      <th>2428</th>\n",
       "      <td>Metroliner</td>\n",
       "      <td>2001</td>\n",
       "      <td>233</td>\n",
       "      <td>785</td>\n",
       "      <td>13941</td>\n",
       "      <td>10001-1</td>\n",
       "      <td>1</td>\n",
       "    </tr>\n",
       "  </tbody>\n",
       "</table>\n",
       "</div>"
      ],
      "text/plain": [
       "                               name  year  theme_id  num_parts  inventory_id  \\\n",
       "696    Weetabix Promotional House 1  1976       413        147          3574   \n",
       "697    Weetabix Promotional House 2  1976       413        149          3574   \n",
       "698   Weetabix Promotional Windmill  1976       413        126          3574   \n",
       "1321                    Guarded Inn  2001       186        256          7474   \n",
       "2428                     Metroliner  2001       233        785         13941   \n",
       "\n",
       "      set_num  quantity  \n",
       "696      00-2         1  \n",
       "697      00-3         1  \n",
       "698      00-4         1  \n",
       "1321  10000-1         1  \n",
       "2428  10001-1         1  "
      ]
     },
     "execution_count": 40,
     "metadata": {},
     "output_type": "execute_result"
    }
   ],
   "source": [
    "#inner join sets and inventory sets\n",
    "c1 = sets.merge(invenotry_sets, left_index = True, right_on = 'set_num',how = 'inner') \n",
    "c1.head()"
   ]
  },
  {
   "cell_type": "code",
   "execution_count": 44,
   "metadata": {},
   "outputs": [
    {
     "data": {
      "text/plain": [
       "<bound method NDFrame.head of year\n",
       "1969      2\n",
       "1970      2\n",
       "1976      3\n",
       "1979      2\n",
       "1980      1\n",
       "1981     13\n",
       "1982      1\n",
       "1983      4\n",
       "1984      5\n",
       "1985      9\n",
       "1986      6\n",
       "1987      6\n",
       "1988      3\n",
       "1989     10\n",
       "1990      5\n",
       "1991     57\n",
       "1992      5\n",
       "1993     15\n",
       "1994     13\n",
       "1995      5\n",
       "1996     11\n",
       "1997     25\n",
       "1998     77\n",
       "1999     54\n",
       "2000     84\n",
       "2001    186\n",
       "2002    189\n",
       "2003    186\n",
       "2004    166\n",
       "2005    171\n",
       "2006    111\n",
       "2007    177\n",
       "2008    154\n",
       "2009    132\n",
       "2010    228\n",
       "2011    353\n",
       "2012    457\n",
       "2013    318\n",
       "2014    334\n",
       "2015    233\n",
       "2016     66\n",
       "2017     37\n",
       "Name: quantity, dtype: int64>"
      ]
     },
     "execution_count": 44,
     "metadata": {},
     "output_type": "execute_result"
    }
   ],
   "source": [
    "# how have the size of sets change over time?\n",
    "# 1. group quantity by set_num and year\n",
    "t1 = c1.groupby(['year', 'set_num'], as_index=False)['quantity'].sum()\n",
    "size_by_year_setnum = t1.groupby(['year'],as_index = 'year')['quantity'].sum()\n",
    "size_by_year_setnum.head # 1969  2"
   ]
  },
  {
   "cell_type": "code",
   "execution_count": 47,
   "metadata": {},
   "outputs": [
    {
     "data": {
      "text/plain": [
       "<matplotlib.axes._subplots.AxesSubplot at 0x11b6d5518>"
      ]
     },
     "execution_count": 47,
     "metadata": {},
     "output_type": "execute_result"
    },
    {
     "data": {
      "image/png": "[encoded data removed]",
      "text/plain": [
       "<matplotlib.figure.Figure at 0x110e20c88>"
      ]
     },
     "metadata": {},
     "output_type": "display_data"
    }
   ],
   "source": [
    "import matplotlib.pyplot as plt\n",
    "size_by_year_setnum = size_by_year_setnum.cumsum()\n",
    "size_by_year_setnum.plot()"
   ]
  },
  {
   "cell_type": "code",
   "execution_count": 51,
   "metadata": {},
   "outputs": [
    {
     "data": {
      "text/plain": [
       "<matplotlib.figure.Figure at 0x11b89f828>"
      ]
     },
     "metadata": {},
     "output_type": "display_data"
    },
    {
     "data": {
      "image/png": "[encoded data removed]",
      "text/plain": [
       "<matplotlib.figure.Figure at 0x11b89c390>"
      ]
     },
     "metadata": {},
     "output_type": "display_data"
    }
   ],
   "source": []
  },
  {
   "cell_type": "code",
   "execution_count": 53,
   "metadata": {},
   "outputs": [
    {
     "data": {
      "text/html": [
       "<div>\n",
       "<style scoped>\n",
       "    .dataframe tbody tr th:only-of-type {\n",
       "        vertical-align: middle;\n",
       "    }\n",
       "\n",
       "    .dataframe tbody tr th {\n",
       "        vertical-align: top;\n",
       "    }\n",
       "\n",
       "    .dataframe thead th {\n",
       "        text-align: right;\n",
       "    }\n",
       "</style>\n",
       "<table border=\"1\" class=\"dataframe\">\n",
       "  <thead>\n",
       "    <tr style=\"text-align: right;\">\n",
       "      <th></th>\n",
       "      <th>A</th>\n",
       "      <th>B</th>\n",
       "      <th>C</th>\n",
       "      <th>D</th>\n",
       "    </tr>\n",
       "  </thead>\n",
       "  <tbody>\n",
       "    <tr>\n",
       "      <th>2000-01-01</th>\n",
       "      <td>-0.137147</td>\n",
       "      <td>-1.844904</td>\n",
       "      <td>0.355343</td>\n",
       "      <td>-1.308755</td>\n",
       "    </tr>\n",
       "    <tr>\n",
       "      <th>2000-01-02</th>\n",
       "      <td>0.572156</td>\n",
       "      <td>-0.720912</td>\n",
       "      <td>0.460608</td>\n",
       "      <td>0.664685</td>\n",
       "    </tr>\n",
       "    <tr>\n",
       "      <th>2000-01-03</th>\n",
       "      <td>2.125862</td>\n",
       "      <td>-1.086463</td>\n",
       "      <td>-0.485355</td>\n",
       "      <td>1.045392</td>\n",
       "    </tr>\n",
       "    <tr>\n",
       "      <th>2000-01-04</th>\n",
       "      <td>1.593708</td>\n",
       "      <td>-0.904959</td>\n",
       "      <td>-0.763670</td>\n",
       "      <td>1.069701</td>\n",
       "    </tr>\n",
       "    <tr>\n",
       "      <th>2000-01-05</th>\n",
       "      <td>2.183231</td>\n",
       "      <td>0.331448</td>\n",
       "      <td>-1.008426</td>\n",
       "      <td>1.173436</td>\n",
       "    </tr>\n",
       "  </tbody>\n",
       "</table>\n",
       "</div>"
      ],
      "text/plain": [
       "                   A         B         C         D\n",
       "2000-01-01 -0.137147 -1.844904  0.355343 -1.308755\n",
       "2000-01-02  0.572156 -0.720912  0.460608  0.664685\n",
       "2000-01-03  2.125862 -1.086463 -0.485355  1.045392\n",
       "2000-01-04  1.593708 -0.904959 -0.763670  1.069701\n",
       "2000-01-05  2.183231  0.331448 -1.008426  1.173436"
      ]
     },
     "execution_count": 53,
     "metadata": {},
     "output_type": "execute_result"
    }
   ],
   "source": []
  }
 ],
 "metadata": {
  "kernelspec": {
   "display_name": "Python 3",
   "language": "python",
   "name": "python3"
  },
  "language_info": {
   "codemirror_mode": {
    "name": "ipython",
    "version": 3
   },
   "file_extension": ".py",
   "mimetype": "text/x-python",
   "name": "python",
   "nbconvert_exporter": "python",
   "pygments_lexer": "ipython3",
   "version": "3.6.4"
  }
 },
 "nbformat": 4,
 "nbformat_minor": 2
}
